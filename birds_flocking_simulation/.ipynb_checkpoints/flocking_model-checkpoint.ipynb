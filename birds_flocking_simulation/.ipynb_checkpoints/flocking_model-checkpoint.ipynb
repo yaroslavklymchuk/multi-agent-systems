{
 "cells": [
  {
   "cell_type": "code",
   "execution_count": 1,
   "metadata": {},
   "outputs": [],
   "source": [
    "from mesa.visualization.ModularVisualization import ModularServer\n",
    "\n",
    "from model import BoidModel\n",
    "from SimpleContinuousModule import SimpleCanvas"
   ]
  },
  {
   "cell_type": "code",
   "execution_count": 2,
   "metadata": {},
   "outputs": [],
   "source": [
    "def boid_draw(agent):\n",
    "    return {\"Shape\": \"circle\", \"r\": 2, \"Filled\": \"true\", \"Color\": \"Red\"}"
   ]
  },
  {
   "cell_type": "code",
   "execution_count": 3,
   "metadata": {},
   "outputs": [],
   "source": [
    "boid_canvas = SimpleCanvas(boid_draw, 500, 500)\n",
    "server = ModularServer(BoidModel, [boid_canvas], \"Boids\",\n",
    "                       {'N':100, 'width':100, 'height':100, 'speed':5, 'vision':10, 'separation':2}\n",
    "                       )"
   ]
  }
 ],
 "metadata": {
  "kernelspec": {
   "display_name": "Python 3",
   "language": "python",
   "name": "python3"
  },
  "language_info": {
   "codemirror_mode": {
    "name": "ipython",
    "version": 3
   },
   "file_extension": ".py",
   "mimetype": "text/x-python",
   "name": "python",
   "nbconvert_exporter": "python",
   "pygments_lexer": "ipython3",
   "version": "3.6.9"
  }
 },
 "nbformat": 4,
 "nbformat_minor": 4
}
