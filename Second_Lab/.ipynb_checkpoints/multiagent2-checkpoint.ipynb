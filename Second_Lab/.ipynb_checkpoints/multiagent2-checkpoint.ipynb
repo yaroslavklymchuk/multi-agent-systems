{
 "cells": [
  {
   "cell_type": "markdown",
   "metadata": {},
   "source": [
    "### Board Visualization"
   ]
  },
  {
   "cell_type": "code",
   "execution_count": 1,
   "metadata": {},
   "outputs": [],
   "source": [
    "import re\n",
    "from PIL import Image, ImageDraw\n",
    "\n",
    "class BadChessboard(ValueError):\n",
    "    pass\n",
    "\n",
    "def expand_blanks(fen):\n",
    "    '''Expand the digits in an FEN string into spaces\n",
    "\n",
    "    >>> expand_blanks(\"rk4q3\")\n",
    "    'rk    q   '\n",
    "    '''\n",
    "    def expand(match):\n",
    "        return ' ' * int(match.group(0))\n",
    "    return re.compile(r'\\d').sub(expand, fen)\n",
    "\n",
    "def check_valid(expanded_fen, n):\n",
    "    '''Asserts an expanded FEN string is valid'''\n",
    "    print(expanded_fen)\n",
    "    match = re.compile(r'([KQBNRPkqbnrp ]{{{n}}}/){{{n}}}$'.format(n=n)).match\n",
    "    if not match(expanded_fen + '/'):\n",
    "        raise BadChessboard()\n",
    "\n",
    "def expand_fen(fen, n):\n",
    "    '''Preprocesses a fen string into an internal format.\n",
    "\n",
    "    Each square on the chessboard is represented by a single \n",
    "    character in the output string. The rank separator characters\n",
    "    are removed. Invalid inputs raise a BadChessboard error.\n",
    "    '''\n",
    "    expanded = expand_blanks(fen)\n",
    "    check_valid(expanded, n)\n",
    "    return expanded.replace('/', '')\n",
    "\n",
    "def draw_board(n=8, sq_size=(20, 20)):\n",
    "    '''Return an image of a chessboard.\n",
    "\n",
    "    The board has n x n squares each of the supplied size.'''\n",
    "    from itertools import cycle\n",
    "    def square(i, j):\n",
    "        return i * sq_size[0], j * sq_size[1]\n",
    "    opaque_grey_background = 192, 255\n",
    "    board = Image.new('LA', square(n, n), opaque_grey_background) \n",
    "    draw_square = ImageDraw.Draw(board).rectangle\n",
    "    whites = ((square(i, j), square(i + 1, j + 1))\n",
    "              for i_start, j in zip(cycle((0, 1)), range(n))\n",
    "              for i in range(i_start, n, 2))\n",
    "    for white_square in whites:\n",
    "        draw_square(white_square, fill='white')#'white')\n",
    "    return board\n",
    "\n",
    "class DrawChessPosition(object):\n",
    "    '''Chess position renderer.\n",
    "\n",
    "    Create an instance of this class, then call \n",
    "    '''\n",
    "    def __init__(self, n):\n",
    "        '''Initialise, preloading pieces and creating a blank board.''' \n",
    "        self.n = n\n",
    "        self.create_pieces()\n",
    "        self.create_blank_board()\n",
    "\n",
    "    def create_pieces(self):\n",
    "        '''Load the chess pieces from disk.\n",
    "\n",
    "        Also extracts and caches the alpha masks for these pieces. \n",
    "        '''\n",
    "        whites = 'KQBNRP'\n",
    "        piece_images = dict(\n",
    "            zip(whites, (Image.open('pieces/%s.png' % p) for p in whites)))\n",
    "        blacks = 'kqbnrp'\n",
    "        piece_images.update(dict(\n",
    "            zip(blacks, (Image.open('pieces/%s.png' % p) for p in blacks))))\n",
    "        piece_sizes = set(piece.size for piece in piece_images.values())\n",
    "        # Sanity check: the pieces should all be the same size\n",
    "        assert len(piece_sizes) == 1\n",
    "        self.piece_w, self.piece_h = piece_sizes.pop()\n",
    "        self.piece_images = piece_images\n",
    "        self.piece_masks = dict((pc, img.split()[3]) for pc, img in\n",
    "                                 self.piece_images.items())\n",
    "\n",
    "    def create_blank_board(self):\n",
    "        '''Pre-render a blank board.'''\n",
    "        self.board = draw_board(self.n, sq_size=(self.piece_w, self.piece_h))\n",
    "\n",
    "    def point(self, i, j):\n",
    "        '''Return the top left of the square at (i, j).'''\n",
    "        w, h = self.piece_w, self.piece_h\n",
    "        return i * h, j * w\n",
    "\n",
    "    def square(self, i, j):\n",
    "        '''Return the square at (i, j).'''\n",
    "        t, l = self.point(i, j)\n",
    "        b, r = self.point(i + 1, j + 1)\n",
    "        return t, l, b, r\n",
    "\n",
    "    def draw(self, fen):\n",
    "        '''Return an image depicting the input position.\n",
    "\n",
    "        fen - the first record of a FEN chess position.\n",
    "        Clients are responsible for resizing this image and saving it,\n",
    "        if required.\n",
    "        '''\n",
    "        board = self.board.copy()\n",
    "        pieces = expand_fen(fen, self.n)\n",
    "        images, masks, n = self.piece_images, self.piece_masks, self.n\n",
    "        pts = (self.point(i, j) for j in range(n) for i in range(n))\n",
    "        def not_blank(pt_pc):\n",
    "            return pt_pc[1] != ' '\n",
    "        for pt, piece in filter(not_blank, zip(pts, pieces)):\n",
    "            board.paste(images[piece], pt, masks[piece])\n",
    "        return board"
   ]
  },
  {
   "cell_type": "code",
   "execution_count": 2,
   "metadata": {},
   "outputs": [
    {
     "name": "stdout",
     "output_type": "stream",
     "text": [
      "r  q rk nb/B  Q RK NB/PP  PPBPNR/ np  np NP/  Q   B PR/   PP b KN/  N  N  PN/PP   PPPKN/   RKB Rrn/   RKB Rrn\n"
     ]
    }
   ],
   "source": [
    "renderer = DrawChessPosition(n=10)\n",
    "fen = \"r2q1rk1nb/B2Q1RK1NB/PP2PPBPNR/1np2np1NP/2Q3B1PR/3PP1b1KN/2N2N2PN/PP3PPPKN/3RKB1Rrn/3RKB1Rrn\"\n",
    "board = renderer.draw(fen)\n",
    "#board.show()"
   ]
  },
  {
   "cell_type": "code",
   "execution_count": 3,
   "metadata": {},
   "outputs": [
    {
     "data": {
      "image/png": "[encoded data removed]",
      "text/plain": [
       "<PIL.Image.Image image mode=LA size=400x400 at 0x7FA1240D5190>"
      ]
     },
     "execution_count": 3,
     "metadata": {},
     "output_type": "execute_result"
    }
   ],
   "source": [
    "board.resize((400, 400))"
   ]
  },
  {
   "cell_type": "markdown",
   "metadata": {},
   "source": [
    "### Figures"
   ]
  },
  {
   "cell_type": "code",
   "execution_count": 4,
   "metadata": {},
   "outputs": [],
   "source": [
    "from itertools import product\n",
    "from scipy.spatial import distance\n",
    "import numpy as np\n",
    "from math import hypot\n",
    "from math import sqrt\n",
    "\n",
    "MAX_DESK_SIZE = 100\n",
    "\n",
    "\n",
    "class Figure:\n",
    "    def __init__(self, name, coordinates):\n",
    "        self._name = name\n",
    "        self._coordinates = coordinates\n",
    "\n",
    "    def get_step_coordinates(self, board_size):\n",
    "        pass\n",
    "\n",
    "    def attack(self, target_coordinates, board_size):\n",
    "        list_possible_coordinates = self.get_step_coordinates(board_size)\n",
    "        return target_coordinates in list_possible_coordinates\n",
    "\n",
    "    def is_possible_attack(self, desk, desk_size):\n",
    "        list_possible_coordinates = self.get_step_coordinates(desk_size)\n",
    "        return any((desk[el[0], el[1]] for el in list_possible_coordinates\n",
    "                    if (0 <= el[0] < desk_size) and (0 <= el[1] < desk_size))\n",
    "                   )\n",
    "\n",
    "\n",
    "class Pawn(Figure):\n",
    "    def __init__(self, name, coordinates):\n",
    "        super().__init__(name, coordinates)\n",
    "\n",
    "    def get_step_coordinates(self, board_size):\n",
    "        x, y = self._coordinates\n",
    "        \n",
    "        all_coordinates = list(product(range(board_size), range(board_size)))\n",
    "        possible_coordinates = (coord for coord in all_coordinates \n",
    "                                if (abs(x - coord[0]) == 1 and y - coord[1] == 1)\n",
    "                               )\n",
    "        \n",
    "        possible_coordinates = list(set(possible_coordinates))\n",
    "\n",
    "        return possible_coordinates\n",
    "\n",
    "\n",
    "class Knight(Figure):\n",
    "    def __init__(self, name, coordinates):\n",
    "        super().__init__(name, coordinates)\n",
    "\n",
    "    def get_step_coordinates(self, board_size):\n",
    "        x, y = self._coordinates\n",
    "        all_coordinates = list(product(range(board_size), range(board_size)))\n",
    "        \n",
    "        possible_coordinates = (coord for coord in all_coordinates \n",
    "                                if ((abs(coord[0] - x) == 2 and abs(coord[1] - y) == 1) \n",
    "                                or (abs(coord[0] - x) == 1 and abs(coord[1] - y) == 2))\n",
    "                                and coord != (x, y)\n",
    "                               )\n",
    "        possible_coordinates = list(set(possible_coordinates))\n",
    "\n",
    "        return possible_coordinates\n",
    "\n",
    "\n",
    "class Rook(Figure):\n",
    "    def __init__(self, name, coordinates):\n",
    "        super().__init__(name, coordinates)\n",
    "\n",
    "    def get_step_coordinates(self, board_size):\n",
    "        x, y = self._coordinates\n",
    "        \n",
    "        all_coordinates = list(product(range(board_size), range(board_size)))\n",
    "\n",
    "        possible_coordinates = (coord for coord in all_coordinates \n",
    "                                if (coord[0] == x or coord[1] == y) and coord != (x, y)\n",
    "                               )\n",
    "        \n",
    "        possible_coordinates = list(set(possible_coordinates))\n",
    "            \n",
    "        return possible_coordinates\n",
    "\n",
    "\n",
    "class Bishop(Figure):\n",
    "    def __init__(self, name, coordinates):\n",
    "        super().__init__(name, coordinates)\n",
    "\n",
    "    def get_step_coordinates(self, board_size):\n",
    "        x, y = self._coordinates\n",
    "          \n",
    "        all_coordinates = list(product(range(board_size), range(board_size)))\n",
    "        \n",
    "        possible_coordinates = (coord for coord in all_coordinates \n",
    "                                if abs(coord[0] - x) == abs(coord[1] - y) and coord != (x, y)\n",
    "                               )\n",
    "        \n",
    "        possible_coordinates = list(set(possible_coordinates))\n",
    "            \n",
    "        return possible_coordinates\n",
    "\n",
    "\n",
    "class Queen(Figure):\n",
    "    def __init__(self, name, coordinates):\n",
    "        super().__init__(name, coordinates)\n",
    "\n",
    "    def get_step_coordinates(self, board_size):\n",
    "        x, y = self._coordinates\n",
    "        \n",
    "        bishop = Bishop(self._name, self._coordinates)\n",
    "        rook = Rook(self._name, self._coordinates)\n",
    "\n",
    "        rook_possible_coords = rook.get_step_coordinates(board_size)\n",
    "        bishop_possible_coords = bishop.get_step_coordinates(board_size)\n",
    "        \n",
    "        list_possible_coordinates = rook_possible_coords + bishop_possible_coords\n",
    "        list_possible_coordinates = list(set(list_possible_coordinates))\n",
    "        list_possible_coordinates = [coord for coord in list_possible_coordinates if coord != (x, y)]\n",
    "        \n",
    "        return list_possible_coordinates\n",
    "\n",
    "\n",
    "class King(Figure):\n",
    "    def __init__(self, name, coordinates):\n",
    "        super().__init__(name, coordinates)\n",
    "\n",
    "    def get_step_coordinates(self, board_size):\n",
    "        x, y = self._coordinates\n",
    "                \n",
    "        all_coordinates = list(product(range(board_size), range(board_size)))\n",
    "        \n",
    "        possible_coordinates = (coord for coord in all_coordinates \n",
    "                                if hypot(x - coord[0], y - coord[1]) <= sqrt(2) and coord != (x, y)\n",
    "                               )\n",
    "        \n",
    "        possible_coordinates = list(set(possible_coordinates))\n",
    "        \n",
    "        return possible_coordinates"
   ]
  },
  {
   "cell_type": "markdown",
   "metadata": {},
   "source": [
    "### Board Logic"
   ]
  },
  {
   "cell_type": "code",
   "execution_count": 5,
   "metadata": {},
   "outputs": [],
   "source": [
    "import rstr\n",
    "from collections import Counter\n",
    "import numpy as np\n",
    "\n",
    "# from visualize import DrawChessPosition\n",
    "# from figures import King, Queen, Pawn, Rook, Knight, Bishop\n",
    "\n",
    "REGXC = r'([{figures} ]{{{n}}}/){{{n}}}$'\n",
    "CLASSES_MAPPING = {'B': Bishop, 'N': Knight, 'P': Pawn, 'R': Rook, 'K': King, 'Q': Queen}\n",
    "\n",
    "\n",
    "class ChessBoard:\n",
    "\n",
    "    def __init__(\n",
    "            self,\n",
    "            size,\n",
    "            config,\n",
    "            regex=REGXC\n",
    "    ):\n",
    "        self.size = size\n",
    "        self.config = config\n",
    "        self.regex = regex\n",
    "\n",
    "    def generate_board(self):\n",
    "        regex_tmp = self.regex.format(figures=('').join(self.config.keys()), n=self.size)\n",
    "        gen = rstr.xeger(regex_tmp)\n",
    "        gen = ('/').join(gen.split('/')[:-1])\n",
    "\n",
    "        counter = Counter(gen)\n",
    "        for piece, qty in self.config.items():\n",
    "            real_qty = counter.get(piece)\n",
    "            while real_qty > qty:\n",
    "                for i, el in enumerate(gen):\n",
    "                    if el == piece and np.random.uniform(0, 1) > 0.5 and real_qty > qty:\n",
    "                        gen = gen[:i] + ' ' + gen[i + 1:]\n",
    "                        real_qty -= 1\n",
    "\n",
    "        renderer = DrawChessPosition(n=self.size)\n",
    "        board = renderer.draw(gen)\n",
    "        return board, gen\n",
    "\n",
    "    def get_coordinates_map(self, board, gen):\n",
    "        coords = np.zeros((self.size, self.size))\n",
    "        coords_words = np.zeros((self.size, self.size)).astype(str)\n",
    "        coords_dict = {}\n",
    "\n",
    "        for col in self.config.keys():\n",
    "            coords_dict[col] = []\n",
    "\n",
    "        for i, row in enumerate(gen.split('/')):\n",
    "            for j, col in enumerate(row):\n",
    "                number = self.config.get(col)\n",
    "                if number:\n",
    "                    coords[i][j] = number\n",
    "                    coords_words[i][j] = col\n",
    "                    coords_dict[col].append((i, j))\n",
    "\n",
    "        coords_words = [[' ' if el1 == '0.0' else el1 for el1 in el] for el in coords_words]\n",
    "\n",
    "        figures_mapping = {}\n",
    "\n",
    "        for key, coords_figure in coords_dict.items():\n",
    "            for coord in coords_figure:\n",
    "                figures_mapping[coord] = CLASSES_MAPPING.get(key)(key, coord)\n",
    "\n",
    "        return coords, coords_words, coords_dict, figures_mapping\n",
    "\n",
    "    def show_field(self):\n",
    "        board, gen = self.generate_board()\n",
    "        board.show()\n"
   ]
  },
  {
   "cell_type": "code",
   "execution_count": 6,
   "metadata": {},
   "outputs": [],
   "source": [
    "CONFIG = {'B': 3, 'N': 2, 'P': 4, 'R': 1}\n",
    "SIZE = 10"
   ]
  },
  {
   "cell_type": "code",
   "execution_count": 7,
   "metadata": {},
   "outputs": [],
   "source": [
    "chess_board = ChessBoard(SIZE, CONFIG)"
   ]
  },
  {
   "cell_type": "code",
   "execution_count": 8,
   "metadata": {},
   "outputs": [
    {
     "name": "stdout",
     "output_type": "stream",
     "text": [
      "B    P    /N         /      PP  /          /  N       /    B     /        P /          /    B     /      R   \n"
     ]
    }
   ],
   "source": [
    "board, gen = chess_board.generate_board()"
   ]
  },
  {
   "cell_type": "code",
   "execution_count": 9,
   "metadata": {},
   "outputs": [
    {
     "data": {
      "image/png": "[encoded data removed]",
      "text/plain": [
       "<PIL.Image.Image image mode=LA size=600x600 at 0x7FA0DC4AD1C0>"
      ]
     },
     "execution_count": 9,
     "metadata": {},
     "output_type": "execute_result"
    }
   ],
   "source": [
    "board"
   ]
  },
  {
   "cell_type": "code",
   "execution_count": 10,
   "metadata": {},
   "outputs": [],
   "source": [
    "coords, coords_words, coords_dict, figures_mapping = chess_board.get_coordinates_map(board, gen)"
   ]
  },
  {
   "cell_type": "code",
   "execution_count": 11,
   "metadata": {},
   "outputs": [
    {
     "data": {
      "text/plain": [
       "array([[3., 0., 0., 0., 0., 4., 0., 0., 0., 0.],\n",
       "       [2., 0., 0., 0., 0., 0., 0., 0., 0., 0.],\n",
       "       [0., 0., 0., 0., 0., 0., 4., 4., 0., 0.],\n",
       "       [0., 0., 0., 0., 0., 0., 0., 0., 0., 0.],\n",
       "       [0., 0., 2., 0., 0., 0., 0., 0., 0., 0.],\n",
       "       [0., 0., 0., 0., 3., 0., 0., 0., 0., 0.],\n",
       "       [0., 0., 0., 0., 0., 0., 0., 0., 4., 0.],\n",
       "       [0., 0., 0., 0., 0., 0., 0., 0., 0., 0.],\n",
       "       [0., 0., 0., 0., 3., 0., 0., 0., 0., 0.],\n",
       "       [0., 0., 0., 0., 0., 0., 1., 0., 0., 0.]])"
      ]
     },
     "execution_count": 11,
     "metadata": {},
     "output_type": "execute_result"
    }
   ],
   "source": [
    "coords"
   ]
  },
  {
   "cell_type": "code",
   "execution_count": 12,
   "metadata": {},
   "outputs": [
    {
     "data": {
      "text/plain": [
       "[['B', ' ', ' ', ' ', ' ', 'P', ' ', ' ', ' ', ' '],\n",
       " ['N', ' ', ' ', ' ', ' ', ' ', ' ', ' ', ' ', ' '],\n",
       " [' ', ' ', ' ', ' ', ' ', ' ', 'P', 'P', ' ', ' '],\n",
       " [' ', ' ', ' ', ' ', ' ', ' ', ' ', ' ', ' ', ' '],\n",
       " [' ', ' ', 'N', ' ', ' ', ' ', ' ', ' ', ' ', ' '],\n",
       " [' ', ' ', ' ', ' ', 'B', ' ', ' ', ' ', ' ', ' '],\n",
       " [' ', ' ', ' ', ' ', ' ', ' ', ' ', ' ', 'P', ' '],\n",
       " [' ', ' ', ' ', ' ', ' ', ' ', ' ', ' ', ' ', ' '],\n",
       " [' ', ' ', ' ', ' ', 'B', ' ', ' ', ' ', ' ', ' '],\n",
       " [' ', ' ', ' ', ' ', ' ', ' ', 'R', ' ', ' ', ' ']]"
      ]
     },
     "execution_count": 12,
     "metadata": {},
     "output_type": "execute_result"
    }
   ],
   "source": [
    "coords_words"
   ]
  },
  {
   "cell_type": "code",
   "execution_count": 13,
   "metadata": {},
   "outputs": [
    {
     "data": {
      "text/plain": [
       "{'B': [(0, 0), (5, 4), (8, 4)],\n",
       " 'N': [(1, 0), (4, 2)],\n",
       " 'P': [(0, 5), (2, 6), (2, 7), (6, 8)],\n",
       " 'R': [(9, 6)]}"
      ]
     },
     "execution_count": 13,
     "metadata": {},
     "output_type": "execute_result"
    }
   ],
   "source": [
    "coords_dict"
   ]
  },
  {
   "cell_type": "markdown",
   "metadata": {},
   "source": [
    "## DFS Algorithm"
   ]
  },
  {
   "cell_type": "code",
   "execution_count": 14,
   "metadata": {},
   "outputs": [],
   "source": [
    "from copy import deepcopy"
   ]
  },
  {
   "cell_type": "code",
   "execution_count": 15,
   "metadata": {},
   "outputs": [],
   "source": [
    "coords_empty = np.zeros((SIZE, SIZE)).astype(str)"
   ]
  },
  {
   "cell_type": "code",
   "execution_count": 16,
   "metadata": {},
   "outputs": [],
   "source": [
    "def check_constraints(figures_list, figure_idx, target_coordinates, board_size):\n",
    "    \n",
    "    for idx, figure in enumerate(figures_list):\n",
    "#         if idx != figure_idx:\n",
    "        if figure.attack(target_coordinates, board_size):\n",
    "            return True\n",
    "    return False"
   ]
  },
  {
   "cell_type": "code",
   "execution_count": 17,
   "metadata": {},
   "outputs": [],
   "source": [
    "figures_list = list(figures_mapping.values())"
   ]
  },
  {
   "cell_type": "code",
   "execution_count": 18,
   "metadata": {},
   "outputs": [],
   "source": [
    "def dfs(figure_idx, coords, figures_list):\n",
    "#     print(np.array([el._coordinates for el in figures_list]), '\\n')\n",
    "\n",
    "    if figure_idx >= len(figures_list):\n",
    "        return coords\n",
    "    \n",
    "    for i, j in product(range(coords.shape[0]), range(coords.shape[0])):\n",
    "        raw_coords = tuple(zip(*np.where(coords == '0.0')))\n",
    "        non_raw_coords = tuple(zip(*np.where(coords != '0.0')))\n",
    "        \n",
    "        tmp_fig = figures_list[figure_idx]\n",
    "        tmp_fig._coordinates = (i, j)\n",
    "        \n",
    "        if ((i, j) in raw_coords and not len(set(non_raw_coords) &\n",
    "                                             set(tmp_fig.get_step_coordinates(coords.shape[0]))\n",
    "                                            )):\n",
    "            is_possible_attack = check_constraints(figures_list, figure_idx, (i, j), coords.shape[0])\n",
    "\n",
    "            if not is_possible_attack:\n",
    "                coords[i, j] = figures_list[figure_idx]._name\n",
    "                figures_list[figure_idx]._coordinates = (i, j)\n",
    "                \n",
    "                coords = dfs(figure_idx + 1, coords, figures_list)\n",
    "                if coords is not None:\n",
    "                    return coords\n",
    "            \n",
    "    return None"
   ]
  },
  {
   "cell_type": "code",
   "execution_count": 27,
   "metadata": {},
   "outputs": [],
   "source": [
    "coords_cp = deepcopy(coords)\n",
    "figures_mapping_cp = deepcopy(figures_mapping)\n",
    "figures_list_cp = deepcopy(figures_list)\n",
    "coords_words_cp = deepcopy(coords_words)"
   ]
  },
  {
   "cell_type": "code",
   "execution_count": 28,
   "metadata": {},
   "outputs": [],
   "source": [
    "coords_words_cp = np.array(coords_words_cp)"
   ]
  },
  {
   "cell_type": "code",
   "execution_count": 29,
   "metadata": {},
   "outputs": [],
   "source": [
    "empty_coords = np.zeros((SIZE, SIZE)).astype(str)"
   ]
  },
  {
   "cell_type": "code",
   "execution_count": 30,
   "metadata": {},
   "outputs": [],
   "source": [
    "coords_res = dfs(0, empty_coords, figures_list_cp)"
   ]
  },
  {
   "cell_type": "code",
   "execution_count": 31,
   "metadata": {},
   "outputs": [],
   "source": [
    "coords_res = [[' ' if el == '0.0' else el for el in el1] for el1 in coords_res]"
   ]
  },
  {
   "cell_type": "code",
   "execution_count": 32,
   "metadata": {},
   "outputs": [
    {
     "data": {
      "text/plain": [
       "'BBNBNP PPP/          /      R   /          /          /          /          /          /          /          '"
      ]
     },
     "execution_count": 32,
     "metadata": {},
     "output_type": "execute_result"
    }
   ],
   "source": [
    "new_gen = ('/').join([('').join([el if el != '0.0' else ' ' for el in row]) for row in coords_res])\n",
    "new_gen"
   ]
  },
  {
   "cell_type": "code",
   "execution_count": 33,
   "metadata": {},
   "outputs": [
    {
     "name": "stdout",
     "output_type": "stream",
     "text": [
      "BBNBNP PPP/          /      R   /          /          /          /          /          /          /          \n"
     ]
    }
   ],
   "source": [
    "new_renderer = DrawChessPosition(n=10)\n",
    "new_board = renderer.draw(new_gen)"
   ]
  },
  {
   "cell_type": "code",
   "execution_count": 34,
   "metadata": {},
   "outputs": [
    {
     "data": {
      "image/png": "[encoded data removed]",
      "text/plain": [
       "<PIL.Image.Image image mode=LA size=600x600 at 0x7FA1240D0A90>"
      ]
     },
     "execution_count": 34,
     "metadata": {},
     "output_type": "execute_result"
    }
   ],
   "source": [
    "new_board"
   ]
  },
  {
   "cell_type": "markdown",
   "metadata": {},
   "source": [
    "## 2"
   ]
  },
  {
   "cell_type": "code",
   "execution_count": 27,
   "metadata": {},
   "outputs": [],
   "source": [
    "CONFIG1 = {'P': 15}\n",
    "SIZE1 = 5"
   ]
  },
  {
   "cell_type": "code",
   "execution_count": 28,
   "metadata": {},
   "outputs": [],
   "source": [
    "chess_board1 = ChessBoard(SIZE1, CONFIG1)"
   ]
  },
  {
   "cell_type": "code",
   "execution_count": 29,
   "metadata": {},
   "outputs": [
    {
     "name": "stdout",
     "output_type": "stream",
     "text": [
      "  PP /   PP/  P  /PP  P/P PPP\n"
     ]
    }
   ],
   "source": [
    "board1, gen1 = chess_board1.generate_board()"
   ]
  },
  {
   "cell_type": "code",
   "execution_count": 30,
   "metadata": {},
   "outputs": [
    {
     "data": {
      "image/png": "[encoded data removed]",
      "text/plain": [
       "<PIL.Image.Image image mode=LA size=300x300 at 0x7F273CAF3BB0>"
      ]
     },
     "execution_count": 30,
     "metadata": {},
     "output_type": "execute_result"
    }
   ],
   "source": [
    "board1"
   ]
  },
  {
   "cell_type": "code",
   "execution_count": 31,
   "metadata": {},
   "outputs": [],
   "source": [
    "coords4, coords_words4, coords_dict4, figures_mapping4 = chess_board1.get_coordinates_map(board1, gen1)"
   ]
  },
  {
   "cell_type": "code",
   "execution_count": 32,
   "metadata": {},
   "outputs": [
    {
     "data": {
      "text/plain": [
       "array([[ 0.,  0., 15., 15.,  0.],\n",
       "       [ 0.,  0.,  0., 15., 15.],\n",
       "       [ 0.,  0., 15.,  0.,  0.],\n",
       "       [15., 15.,  0.,  0., 15.],\n",
       "       [15.,  0., 15., 15., 15.]])"
      ]
     },
     "execution_count": 32,
     "metadata": {},
     "output_type": "execute_result"
    }
   ],
   "source": [
    "coords4"
   ]
  },
  {
   "cell_type": "code",
   "execution_count": 33,
   "metadata": {},
   "outputs": [],
   "source": [
    "coords_empty1 = np.zeros((SIZE1, SIZE1)).astype(str)\n",
    "figures_list4 = list(figures_mapping4.values())"
   ]
  },
  {
   "cell_type": "code",
   "execution_count": 34,
   "metadata": {},
   "outputs": [],
   "source": [
    "coords4_cp = deepcopy(coords4)\n",
    "figures_mapping4_cp = deepcopy(figures_mapping4)\n",
    "figures_list4_cp = deepcopy(figures_list4)\n",
    "coords_words4_cp = deepcopy(coords_words4)"
   ]
  },
  {
   "cell_type": "code",
   "execution_count": 35,
   "metadata": {},
   "outputs": [],
   "source": [
    "coords_words4_cp = np.array(coords_words4_cp)"
   ]
  },
  {
   "cell_type": "code",
   "execution_count": 36,
   "metadata": {},
   "outputs": [],
   "source": [
    "empty_coords4 = np.zeros((SIZE1, SIZE1)).astype(str)"
   ]
  },
  {
   "cell_type": "code",
   "execution_count": 37,
   "metadata": {},
   "outputs": [],
   "source": [
    "coords_res4 = dfs(0, empty_coords4, figures_list4_cp)"
   ]
  },
  {
   "cell_type": "code",
   "execution_count": 38,
   "metadata": {},
   "outputs": [
    {
     "data": {
      "text/plain": [
       "array([['P', 'P', 'P', 'P', 'P'],\n",
       "       ['0.0', '0.0', '0.0', '0.0', '0.0'],\n",
       "       ['P', 'P', 'P', 'P', 'P'],\n",
       "       ['0.0', '0.0', '0.0', '0.0', '0.0'],\n",
       "       ['P', 'P', '0.0', '0.0', '0.0']], dtype='<U32')"
      ]
     },
     "execution_count": 38,
     "metadata": {},
     "output_type": "execute_result"
    }
   ],
   "source": [
    "coords_res4"
   ]
  },
  {
   "cell_type": "code",
   "execution_count": 39,
   "metadata": {},
   "outputs": [],
   "source": [
    "coords_res4 = [[' ' if el == '0.0' else el for el in el1] for el1 in coords_res4]"
   ]
  },
  {
   "cell_type": "code",
   "execution_count": 40,
   "metadata": {},
   "outputs": [
    {
     "data": {
      "text/plain": [
       "'PPPPP/     /PPPPP/     /PP   '"
      ]
     },
     "execution_count": 40,
     "metadata": {},
     "output_type": "execute_result"
    }
   ],
   "source": [
    "new_gen4 = ('/').join([('').join([el if el != '0.0' else ' ' for el in row]) for row in coords_res4])\n",
    "new_gen4"
   ]
  },
  {
   "cell_type": "code",
   "execution_count": 41,
   "metadata": {},
   "outputs": [
    {
     "name": "stdout",
     "output_type": "stream",
     "text": [
      "PPPPP/     /PPPPP/     /PP   \n"
     ]
    }
   ],
   "source": [
    "new_renderer4 = DrawChessPosition(n=SIZE1)\n",
    "new_board4 = new_renderer4.draw(new_gen4)"
   ]
  },
  {
   "cell_type": "code",
   "execution_count": 42,
   "metadata": {},
   "outputs": [
    {
     "data": {
      "image/png": "[encoded data removed]",
      "text/plain": [
       "<PIL.Image.Image image mode=LA size=300x300 at 0x7F273CAF3F40>"
      ]
     },
     "execution_count": 42,
     "metadata": {},
     "output_type": "execute_result"
    }
   ],
   "source": [
    "new_board4"
   ]
  },
  {
   "cell_type": "markdown",
   "metadata": {},
   "source": [
    "## 3"
   ]
  },
  {
   "cell_type": "code",
   "execution_count": 43,
   "metadata": {},
   "outputs": [],
   "source": [
    "CONFIG1 = {'P': 3, 'K': 1, 'Q': 2, 'R': 2, 'B': 1, 'N': 2}\n",
    "SIZE1 = 8"
   ]
  },
  {
   "cell_type": "code",
   "execution_count": 44,
   "metadata": {},
   "outputs": [],
   "source": [
    "chess_board1 = ChessBoard(SIZE1, CONFIG1)"
   ]
  },
  {
   "cell_type": "code",
   "execution_count": 45,
   "metadata": {},
   "outputs": [
    {
     "name": "stdout",
     "output_type": "stream",
     "text": [
      "      P /        / N  P   /  B     /P  Q  R /   Q  R / K      /    N   \n"
     ]
    }
   ],
   "source": [
    "board1, gen1 = chess_board1.generate_board()"
   ]
  },
  {
   "cell_type": "code",
   "execution_count": 46,
   "metadata": {},
   "outputs": [
    {
     "data": {
      "image/png": "[encoded data removed]",
      "text/plain": [
       "<PIL.Image.Image image mode=LA size=480x480 at 0x7F276B9BDC40>"
      ]
     },
     "execution_count": 46,
     "metadata": {},
     "output_type": "execute_result"
    }
   ],
   "source": [
    "board1"
   ]
  },
  {
   "cell_type": "code",
   "execution_count": 47,
   "metadata": {},
   "outputs": [],
   "source": [
    "coords4, coords_words4, coords_dict4, figures_mapping4 = chess_board1.get_coordinates_map(board1, gen1)"
   ]
  },
  {
   "cell_type": "code",
   "execution_count": 48,
   "metadata": {},
   "outputs": [
    {
     "data": {
      "text/plain": [
       "array([[0., 0., 0., 0., 0., 0., 3., 0.],\n",
       "       [0., 0., 0., 0., 0., 0., 0., 0.],\n",
       "       [0., 2., 0., 0., 3., 0., 0., 0.],\n",
       "       [0., 0., 1., 0., 0., 0., 0., 0.],\n",
       "       [3., 0., 0., 2., 0., 0., 2., 0.],\n",
       "       [0., 0., 0., 2., 0., 0., 2., 0.],\n",
       "       [0., 1., 0., 0., 0., 0., 0., 0.],\n",
       "       [0., 0., 0., 0., 2., 0., 0., 0.]])"
      ]
     },
     "execution_count": 48,
     "metadata": {},
     "output_type": "execute_result"
    }
   ],
   "source": [
    "coords4"
   ]
  },
  {
   "cell_type": "code",
   "execution_count": 49,
   "metadata": {},
   "outputs": [],
   "source": [
    "coords_empty1 = np.zeros((SIZE1, SIZE1)).astype(str)\n",
    "figures_list4 = list(figures_mapping4.values())"
   ]
  },
  {
   "cell_type": "code",
   "execution_count": 50,
   "metadata": {},
   "outputs": [],
   "source": [
    "coords4_cp = deepcopy(coords4)\n",
    "figures_mapping4_cp = deepcopy(figures_mapping4)\n",
    "figures_list4_cp = deepcopy(figures_list4)\n",
    "coords_words4_cp = deepcopy(coords_words4)"
   ]
  },
  {
   "cell_type": "code",
   "execution_count": 51,
   "metadata": {},
   "outputs": [],
   "source": [
    "coords_words4_cp = np.array(coords_words4_cp)"
   ]
  },
  {
   "cell_type": "code",
   "execution_count": 52,
   "metadata": {},
   "outputs": [],
   "source": [
    "empty_coords4 = np.zeros((SIZE1, SIZE1)).astype(str)"
   ]
  },
  {
   "cell_type": "code",
   "execution_count": 53,
   "metadata": {},
   "outputs": [],
   "source": [
    "coords_res4 = dfs(0, empty_coords4, figures_list4_cp)"
   ]
  },
  {
   "cell_type": "code",
   "execution_count": 54,
   "metadata": {},
   "outputs": [],
   "source": [
    "coords_res4"
   ]
  },
  {
   "cell_type": "code",
   "execution_count": 55,
   "metadata": {},
   "outputs": [
    {
     "ename": "TypeError",
     "evalue": "'NoneType' object is not iterable",
     "output_type": "error",
     "traceback": [
      "\u001b[0;31m---------------------------------------------------------------------------\u001b[0m",
      "\u001b[0;31mTypeError\u001b[0m                                 Traceback (most recent call last)",
      "\u001b[0;32m<ipython-input-55-550408dde2c3>\u001b[0m in \u001b[0;36m<module>\u001b[0;34m\u001b[0m\n\u001b[0;32m----> 1\u001b[0;31m \u001b[0mcoords_res4\u001b[0m \u001b[0;34m=\u001b[0m \u001b[0;34m[\u001b[0m\u001b[0;34m[\u001b[0m\u001b[0;34m' '\u001b[0m \u001b[0;32mif\u001b[0m \u001b[0mel\u001b[0m \u001b[0;34m==\u001b[0m \u001b[0;34m'0.0'\u001b[0m \u001b[0;32melse\u001b[0m \u001b[0mel\u001b[0m \u001b[0;32mfor\u001b[0m \u001b[0mel\u001b[0m \u001b[0;32min\u001b[0m \u001b[0mel1\u001b[0m\u001b[0;34m]\u001b[0m \u001b[0;32mfor\u001b[0m \u001b[0mel1\u001b[0m \u001b[0;32min\u001b[0m \u001b[0mcoords_res4\u001b[0m\u001b[0;34m]\u001b[0m\u001b[0;34m\u001b[0m\u001b[0;34m\u001b[0m\u001b[0m\n\u001b[0m",
      "\u001b[0;31mTypeError\u001b[0m: 'NoneType' object is not iterable"
     ]
    }
   ],
   "source": [
    "coords_res4 = [[' ' if el == '0.0' else el for el in el1] for el1 in coords_res4]"
   ]
  },
  {
   "cell_type": "code",
   "execution_count": 56,
   "metadata": {},
   "outputs": [
    {
     "ename": "TypeError",
     "evalue": "'NoneType' object is not iterable",
     "output_type": "error",
     "traceback": [
      "\u001b[0;31m---------------------------------------------------------------------------\u001b[0m",
      "\u001b[0;31mTypeError\u001b[0m                                 Traceback (most recent call last)",
      "\u001b[0;32m<ipython-input-56-1e5de1e5299b>\u001b[0m in \u001b[0;36m<module>\u001b[0;34m\u001b[0m\n\u001b[0;32m----> 1\u001b[0;31m \u001b[0mnew_gen4\u001b[0m \u001b[0;34m=\u001b[0m \u001b[0;34m(\u001b[0m\u001b[0;34m'/'\u001b[0m\u001b[0;34m)\u001b[0m\u001b[0;34m.\u001b[0m\u001b[0mjoin\u001b[0m\u001b[0;34m(\u001b[0m\u001b[0;34m[\u001b[0m\u001b[0;34m(\u001b[0m\u001b[0;34m''\u001b[0m\u001b[0;34m)\u001b[0m\u001b[0;34m.\u001b[0m\u001b[0mjoin\u001b[0m\u001b[0;34m(\u001b[0m\u001b[0;34m[\u001b[0m\u001b[0mel\u001b[0m \u001b[0;32mif\u001b[0m \u001b[0mel\u001b[0m \u001b[0;34m!=\u001b[0m \u001b[0;34m'0.0'\u001b[0m \u001b[0;32melse\u001b[0m \u001b[0;34m' '\u001b[0m \u001b[0;32mfor\u001b[0m \u001b[0mel\u001b[0m \u001b[0;32min\u001b[0m \u001b[0mrow\u001b[0m\u001b[0;34m]\u001b[0m\u001b[0;34m)\u001b[0m \u001b[0;32mfor\u001b[0m \u001b[0mrow\u001b[0m \u001b[0;32min\u001b[0m \u001b[0mcoords_res4\u001b[0m\u001b[0;34m]\u001b[0m\u001b[0;34m)\u001b[0m\u001b[0;34m\u001b[0m\u001b[0;34m\u001b[0m\u001b[0m\n\u001b[0m\u001b[1;32m      2\u001b[0m \u001b[0mnew_gen4\u001b[0m\u001b[0;34m\u001b[0m\u001b[0;34m\u001b[0m\u001b[0m\n",
      "\u001b[0;31mTypeError\u001b[0m: 'NoneType' object is not iterable"
     ]
    }
   ],
   "source": [
    "new_gen4 = ('/').join([('').join([el if el != '0.0' else ' ' for el in row]) for row in coords_res4])\n",
    "new_gen4"
   ]
  },
  {
   "cell_type": "code",
   "execution_count": 57,
   "metadata": {},
   "outputs": [
    {
     "name": "stdout",
     "output_type": "stream",
     "text": [
      "PPPPP/     /PPPPP/     /PP   \n"
     ]
    },
    {
     "ename": "BadChessboard",
     "evalue": "",
     "output_type": "error",
     "traceback": [
      "\u001b[0;31m---------------------------------------------------------------------------\u001b[0m",
      "\u001b[0;31mBadChessboard\u001b[0m                             Traceback (most recent call last)",
      "\u001b[0;32m<ipython-input-57-83801043303e>\u001b[0m in \u001b[0;36m<module>\u001b[0;34m\u001b[0m\n\u001b[1;32m      1\u001b[0m \u001b[0mnew_renderer4\u001b[0m \u001b[0;34m=\u001b[0m \u001b[0mDrawChessPosition\u001b[0m\u001b[0;34m(\u001b[0m\u001b[0mn\u001b[0m\u001b[0;34m=\u001b[0m\u001b[0mSIZE1\u001b[0m\u001b[0;34m)\u001b[0m\u001b[0;34m\u001b[0m\u001b[0;34m\u001b[0m\u001b[0m\n\u001b[0;32m----> 2\u001b[0;31m \u001b[0mnew_board4\u001b[0m \u001b[0;34m=\u001b[0m \u001b[0mnew_renderer4\u001b[0m\u001b[0;34m.\u001b[0m\u001b[0mdraw\u001b[0m\u001b[0;34m(\u001b[0m\u001b[0mnew_gen4\u001b[0m\u001b[0;34m)\u001b[0m\u001b[0;34m\u001b[0m\u001b[0;34m\u001b[0m\u001b[0m\n\u001b[0m",
      "\u001b[0;32m<ipython-input-1-98cfae4c0bb6>\u001b[0m in \u001b[0;36mdraw\u001b[0;34m(self, fen)\u001b[0m\n\u001b[1;32m    103\u001b[0m         '''\n\u001b[1;32m    104\u001b[0m         \u001b[0mboard\u001b[0m \u001b[0;34m=\u001b[0m \u001b[0mself\u001b[0m\u001b[0;34m.\u001b[0m\u001b[0mboard\u001b[0m\u001b[0;34m.\u001b[0m\u001b[0mcopy\u001b[0m\u001b[0;34m(\u001b[0m\u001b[0;34m)\u001b[0m\u001b[0;34m\u001b[0m\u001b[0;34m\u001b[0m\u001b[0m\n\u001b[0;32m--> 105\u001b[0;31m         \u001b[0mpieces\u001b[0m \u001b[0;34m=\u001b[0m \u001b[0mexpand_fen\u001b[0m\u001b[0;34m(\u001b[0m\u001b[0mfen\u001b[0m\u001b[0;34m,\u001b[0m \u001b[0mself\u001b[0m\u001b[0;34m.\u001b[0m\u001b[0mn\u001b[0m\u001b[0;34m)\u001b[0m\u001b[0;34m\u001b[0m\u001b[0;34m\u001b[0m\u001b[0m\n\u001b[0m\u001b[1;32m    106\u001b[0m         \u001b[0mimages\u001b[0m\u001b[0;34m,\u001b[0m \u001b[0mmasks\u001b[0m\u001b[0;34m,\u001b[0m \u001b[0mn\u001b[0m \u001b[0;34m=\u001b[0m \u001b[0mself\u001b[0m\u001b[0;34m.\u001b[0m\u001b[0mpiece_images\u001b[0m\u001b[0;34m,\u001b[0m \u001b[0mself\u001b[0m\u001b[0;34m.\u001b[0m\u001b[0mpiece_masks\u001b[0m\u001b[0;34m,\u001b[0m \u001b[0mself\u001b[0m\u001b[0;34m.\u001b[0m\u001b[0mn\u001b[0m\u001b[0;34m\u001b[0m\u001b[0;34m\u001b[0m\u001b[0m\n\u001b[1;32m    107\u001b[0m         \u001b[0mpts\u001b[0m \u001b[0;34m=\u001b[0m \u001b[0;34m(\u001b[0m\u001b[0mself\u001b[0m\u001b[0;34m.\u001b[0m\u001b[0mpoint\u001b[0m\u001b[0;34m(\u001b[0m\u001b[0mi\u001b[0m\u001b[0;34m,\u001b[0m \u001b[0mj\u001b[0m\u001b[0;34m)\u001b[0m \u001b[0;32mfor\u001b[0m \u001b[0mj\u001b[0m \u001b[0;32min\u001b[0m \u001b[0mrange\u001b[0m\u001b[0;34m(\u001b[0m\u001b[0mn\u001b[0m\u001b[0;34m)\u001b[0m \u001b[0;32mfor\u001b[0m \u001b[0mi\u001b[0m \u001b[0;32min\u001b[0m \u001b[0mrange\u001b[0m\u001b[0;34m(\u001b[0m\u001b[0mn\u001b[0m\u001b[0;34m)\u001b[0m\u001b[0;34m)\u001b[0m\u001b[0;34m\u001b[0m\u001b[0;34m\u001b[0m\u001b[0m\n",
      "\u001b[0;32m<ipython-input-1-98cfae4c0bb6>\u001b[0m in \u001b[0;36mexpand_fen\u001b[0;34m(fen, n)\u001b[0m\n\u001b[1;32m     30\u001b[0m     '''\n\u001b[1;32m     31\u001b[0m     \u001b[0mexpanded\u001b[0m \u001b[0;34m=\u001b[0m \u001b[0mexpand_blanks\u001b[0m\u001b[0;34m(\u001b[0m\u001b[0mfen\u001b[0m\u001b[0;34m)\u001b[0m\u001b[0;34m\u001b[0m\u001b[0;34m\u001b[0m\u001b[0m\n\u001b[0;32m---> 32\u001b[0;31m     \u001b[0mcheck_valid\u001b[0m\u001b[0;34m(\u001b[0m\u001b[0mexpanded\u001b[0m\u001b[0;34m,\u001b[0m \u001b[0mn\u001b[0m\u001b[0;34m)\u001b[0m\u001b[0;34m\u001b[0m\u001b[0;34m\u001b[0m\u001b[0m\n\u001b[0m\u001b[1;32m     33\u001b[0m     \u001b[0;32mreturn\u001b[0m \u001b[0mexpanded\u001b[0m\u001b[0;34m.\u001b[0m\u001b[0mreplace\u001b[0m\u001b[0;34m(\u001b[0m\u001b[0;34m'/'\u001b[0m\u001b[0;34m,\u001b[0m \u001b[0;34m''\u001b[0m\u001b[0;34m)\u001b[0m\u001b[0;34m\u001b[0m\u001b[0;34m\u001b[0m\u001b[0m\n\u001b[1;32m     34\u001b[0m \u001b[0;34m\u001b[0m\u001b[0m\n",
      "\u001b[0;32m<ipython-input-1-98cfae4c0bb6>\u001b[0m in \u001b[0;36mcheck_valid\u001b[0;34m(expanded_fen, n)\u001b[0m\n\u001b[1;32m     20\u001b[0m     \u001b[0mmatch\u001b[0m \u001b[0;34m=\u001b[0m \u001b[0mre\u001b[0m\u001b[0;34m.\u001b[0m\u001b[0mcompile\u001b[0m\u001b[0;34m(\u001b[0m\u001b[0;34mr'([KQBNRPkqbnrp ]{{{n}}}/){{{n}}}$'\u001b[0m\u001b[0;34m.\u001b[0m\u001b[0mformat\u001b[0m\u001b[0;34m(\u001b[0m\u001b[0mn\u001b[0m\u001b[0;34m=\u001b[0m\u001b[0mn\u001b[0m\u001b[0;34m)\u001b[0m\u001b[0;34m)\u001b[0m\u001b[0;34m.\u001b[0m\u001b[0mmatch\u001b[0m\u001b[0;34m\u001b[0m\u001b[0;34m\u001b[0m\u001b[0m\n\u001b[1;32m     21\u001b[0m     \u001b[0;32mif\u001b[0m \u001b[0;32mnot\u001b[0m \u001b[0mmatch\u001b[0m\u001b[0;34m(\u001b[0m\u001b[0mexpanded_fen\u001b[0m \u001b[0;34m+\u001b[0m \u001b[0;34m'/'\u001b[0m\u001b[0;34m)\u001b[0m\u001b[0;34m:\u001b[0m\u001b[0;34m\u001b[0m\u001b[0;34m\u001b[0m\u001b[0m\n\u001b[0;32m---> 22\u001b[0;31m         \u001b[0;32mraise\u001b[0m \u001b[0mBadChessboard\u001b[0m\u001b[0;34m(\u001b[0m\u001b[0;34m)\u001b[0m\u001b[0;34m\u001b[0m\u001b[0;34m\u001b[0m\u001b[0m\n\u001b[0m\u001b[1;32m     23\u001b[0m \u001b[0;34m\u001b[0m\u001b[0m\n\u001b[1;32m     24\u001b[0m \u001b[0;32mdef\u001b[0m \u001b[0mexpand_fen\u001b[0m\u001b[0;34m(\u001b[0m\u001b[0mfen\u001b[0m\u001b[0;34m,\u001b[0m \u001b[0mn\u001b[0m\u001b[0;34m)\u001b[0m\u001b[0;34m:\u001b[0m\u001b[0;34m\u001b[0m\u001b[0;34m\u001b[0m\u001b[0m\n",
      "\u001b[0;31mBadChessboard\u001b[0m: "
     ]
    }
   ],
   "source": [
    "new_renderer4 = DrawChessPosition(n=SIZE1)\n",
    "new_board4 = new_renderer4.draw(new_gen4)"
   ]
  },
  {
   "cell_type": "code",
   "execution_count": 58,
   "metadata": {},
   "outputs": [
    {
     "data": {
      "image/png": "[encoded data removed]",
      "text/plain": [
       "<PIL.Image.Image image mode=LA size=300x300 at 0x7F273CAF3F40>"
      ]
     },
     "execution_count": 58,
     "metadata": {},
     "output_type": "execute_result"
    }
   ],
   "source": [
    "new_board4"
   ]
  },
  {
   "cell_type": "markdown",
   "metadata": {},
   "source": [
    "## Filtering"
   ]
  },
  {
   "cell_type": "code",
   "execution_count": 59,
   "metadata": {},
   "outputs": [],
   "source": [
    "CONFIG_LAST = {'P': 3, 'K': 1, 'R': 2, 'B': 1, 'N': 2}\n",
    "SIZE_LAST = 10"
   ]
  },
  {
   "cell_type": "code",
   "execution_count": 60,
   "metadata": {},
   "outputs": [],
   "source": [
    "chess_board_last = ChessBoard(SIZE_LAST, CONFIG_LAST)"
   ]
  },
  {
   "cell_type": "code",
   "execution_count": 61,
   "metadata": {},
   "outputs": [
    {
     "name": "stdout",
     "output_type": "stream",
     "text": [
      " P        /          /          /  P       / N        /        R /         B/ P    K   /          / NR       \n"
     ]
    }
   ],
   "source": [
    "board_last, gen_last = chess_board_last.generate_board()"
   ]
  },
  {
   "cell_type": "code",
   "execution_count": 62,
   "metadata": {},
   "outputs": [
    {
     "data": {
      "image/png": "[encoded data removed]",
      "text/plain": [
       "<PIL.Image.Image image mode=LA size=600x600 at 0x7F273CAF48E0>"
      ]
     },
     "execution_count": 62,
     "metadata": {},
     "output_type": "execute_result"
    }
   ],
   "source": [
    "board_last"
   ]
  },
  {
   "cell_type": "code",
   "execution_count": 63,
   "metadata": {},
   "outputs": [],
   "source": [
    "coords_last, coords_words_last, coords_dict_last, figures_mapping_last = chess_board_last.get_coordinates_map(\n",
    "    board_last, gen_last)"
   ]
  },
  {
   "cell_type": "code",
   "execution_count": 64,
   "metadata": {},
   "outputs": [],
   "source": [
    "def create_constraints(board, use_all_domains):\n",
    "    n_figures = board[board != 0].shape[0]\n",
    "    universal_domain = [(x, y) for x in range(board.shape[0]) for y in range(board.shape[1])]\n",
    "    domains = [deepcopy(universal_domain) for i in range(n_figures)]\n",
    "    \n",
    "    if not use_all_domains:\n",
    "        for i in range(len(domains) - 1):\n",
    "            n_to_drop = np.random.randint(0, len(universal_domain) - 2)\n",
    "            for j in range(n_to_drop):\n",
    "                domain_to_drop = np.random.randint(0, len(domains[i]))\n",
    "                domains[i].pop(domain_to_drop)\n",
    "                \n",
    "        last_domain_preserve = np.random.randint(0, len(universal_domain))\n",
    "        domains = [domains[-1][last_domain_preserve]]\n",
    "    \n",
    "    return domains"
   ]
  },
  {
   "cell_type": "code",
   "execution_count": 65,
   "metadata": {},
   "outputs": [
    {
     "data": {
      "text/plain": [
       "[[' ', 'P', ' ', ' ', ' ', ' ', ' ', ' ', ' ', ' '],\n",
       " [' ', ' ', ' ', ' ', ' ', ' ', ' ', ' ', ' ', ' '],\n",
       " [' ', ' ', ' ', ' ', ' ', ' ', ' ', ' ', ' ', ' '],\n",
       " [' ', ' ', 'P', ' ', ' ', ' ', ' ', ' ', ' ', ' '],\n",
       " [' ', 'N', ' ', ' ', ' ', ' ', ' ', ' ', ' ', ' '],\n",
       " [' ', ' ', ' ', ' ', ' ', ' ', ' ', ' ', 'R', ' '],\n",
       " [' ', ' ', ' ', ' ', ' ', ' ', ' ', ' ', ' ', 'B'],\n",
       " [' ', 'P', ' ', ' ', ' ', ' ', 'K', ' ', ' ', ' '],\n",
       " [' ', ' ', ' ', ' ', ' ', ' ', ' ', ' ', ' ', ' '],\n",
       " [' ', 'N', 'R', ' ', ' ', ' ', ' ', ' ', ' ', ' ']]"
      ]
     },
     "execution_count": 65,
     "metadata": {},
     "output_type": "execute_result"
    }
   ],
   "source": [
    "coords_words_last"
   ]
  },
  {
   "cell_type": "code",
   "execution_count": 66,
   "metadata": {},
   "outputs": [],
   "source": [
    "domains = create_constraints(coords_last, True)"
   ]
  },
  {
   "cell_type": "code",
   "execution_count": 67,
   "metadata": {},
   "outputs": [],
   "source": [
    "figures_list_last = list(figures_mapping_last.values())"
   ]
  },
  {
   "cell_type": "code",
   "execution_count": 68,
   "metadata": {},
   "outputs": [],
   "source": [
    "def is_one_possible_attack(board, figures_list, figure_idx, figure_jdx, coords_i, coords_j):\n",
    "    figure_i = figures_list[figure_idx]\n",
    "    figure_j = figures_list[figure_jdx]\n",
    "    \n",
    "    figure_i_tmp = deepcopy(figure_i)\n",
    "    figure_j_tmp = deepcopy(figure_j)\n",
    "\n",
    "    figure_i_tmp._coordinates = coords_i\n",
    "    figure_j_tmp._coordinates = coords_j\n",
    "    \n",
    "    return not any((figure_i_tmp.attack(coords_j, board.shape[0]), figure_j_tmp.attack(coords_i, board.shape[0])))"
   ]
  },
  {
   "cell_type": "code",
   "execution_count": 69,
   "metadata": {},
   "outputs": [],
   "source": [
    "def is_any_possible_attack(board, figures_list, figure_idx, figure_jdx, current_domain, domains):\n",
    "    return not any(is_one_possible_attack(board, figures_list, figure_idx, figure_jdx, current_domain, coords_j)\n",
    "              for coords_j in domains\n",
    "              )"
   ]
  },
  {
   "cell_type": "code",
   "execution_count": 70,
   "metadata": {},
   "outputs": [],
   "source": [
    "def make_revision(board, figures_list, domains, idx, jdx):\n",
    "    old_domain = deepcopy(domains[idx])\n",
    "    current_domain = deepcopy(domains[idx])\n",
    "    \n",
    "    for cur_domain in current_domain:\n",
    "        if is_any_possible_attack(board, figures_list, idx, jdx, cur_domain, domains[jdx]):\n",
    "            current_domain.remove(cur_domain)\n",
    "    \n",
    "    if set(old_domain) != set(current_domain):\n",
    "        domains[idx] = current_domain\n",
    "        \n",
    "        for k in range(len(figures_list)):\n",
    "            if k not in (idx, jdx):\n",
    "                make_revision(board, figures_list, domains, idx, k)\n",
    "\n",
    "def filtering_process(board, figures_list, domains, idx):\n",
    "    for j in range(len(figures_list)):\n",
    "        if j != idx:\n",
    "            make_revision(board, figures_list, domains, idx, j)"
   ]
  },
  {
   "cell_type": "code",
   "execution_count": 71,
   "metadata": {},
   "outputs": [],
   "source": [
    "def find_solution(board, figures_list, domains):\n",
    "    \n",
    "    for i in range(len(figures_list)):\n",
    "        filtering_process(board, figures_list, domains, i)\n",
    "        if len(domains[i]) == 0:\n",
    "            print('No solution...')\n",
    "            return None\n",
    "        else:\n",
    "            idx_to_choose = np.random.choice(range(len(domains[i])))\n",
    "            domains[i] = [domains[i][idx_to_choose]] #[domains[i][0]]\n",
    "    \n",
    "    for i in range(len(domains)):\n",
    "        figures_list[i]._coordinates = np.array(domains[i][0])\n",
    "        \n",
    "    return figures_list"
   ]
  },
  {
   "cell_type": "code",
   "execution_count": 72,
   "metadata": {},
   "outputs": [],
   "source": [
    "figures_sol = find_solution(coords_last, figures_list_last, domains)"
   ]
  },
  {
   "cell_type": "code",
   "execution_count": 73,
   "metadata": {},
   "outputs": [],
   "source": [
    "coords_sol = np.zeros((SIZE_LAST, SIZE_LAST)).astype(str)\n",
    "\n",
    "for figure in figures_sol:\n",
    "    coords_sol[figure._coordinates[0], figure._coordinates[1]] = figure._name\n",
    "\n",
    "coords_sol = [[' ' if el1 == '0.0' else el1 for el1 in el] for el in coords_sol]"
   ]
  },
  {
   "cell_type": "code",
   "execution_count": 74,
   "metadata": {},
   "outputs": [
    {
     "data": {
      "text/plain": [
       "[[' ', ' ', ' ', ' ', ' ', ' ', ' ', ' ', ' ', ' '],\n",
       " [' ', ' ', ' ', ' ', ' ', ' ', ' ', ' ', ' ', ' '],\n",
       " [' ', ' ', ' ', ' ', ' ', ' ', ' ', ' ', ' ', ' '],\n",
       " [' ', ' ', ' ', ' ', 'K', ' ', ' ', ' ', ' ', ' '],\n",
       " [' ', ' ', 'R', ' ', ' ', ' ', ' ', ' ', ' ', ' '],\n",
       " [' ', ' ', ' ', ' ', ' ', ' ', ' ', ' ', ' ', ' '],\n",
       " [' ', 'P', ' ', ' ', ' ', ' ', 'N', ' ', ' ', ' '],\n",
       " [' ', ' ', ' ', ' ', ' ', ' ', ' ', ' ', ' ', ' '],\n",
       " [' ', ' ', ' ', ' ', 'P', ' ', ' ', ' ', ' ', ' '],\n",
       " ['N', 'B', ' ', ' ', ' ', ' ', ' ', ' ', ' ', ' ']]"
      ]
     },
     "execution_count": 74,
     "metadata": {},
     "output_type": "execute_result"
    }
   ],
   "source": [
    "coords_sol"
   ]
  },
  {
   "cell_type": "code",
   "execution_count": 75,
   "metadata": {},
   "outputs": [
    {
     "data": {
      "text/plain": [
       "[[' ', 'P', ' ', ' ', ' ', ' ', ' ', ' ', ' ', ' '],\n",
       " [' ', ' ', ' ', ' ', ' ', ' ', ' ', ' ', ' ', ' '],\n",
       " [' ', ' ', ' ', ' ', ' ', ' ', ' ', ' ', ' ', ' '],\n",
       " [' ', ' ', 'P', ' ', ' ', ' ', ' ', ' ', ' ', ' '],\n",
       " [' ', 'N', ' ', ' ', ' ', ' ', ' ', ' ', ' ', ' '],\n",
       " [' ', ' ', ' ', ' ', ' ', ' ', ' ', ' ', 'R', ' '],\n",
       " [' ', ' ', ' ', ' ', ' ', ' ', ' ', ' ', ' ', 'B'],\n",
       " [' ', 'P', ' ', ' ', ' ', ' ', 'K', ' ', ' ', ' '],\n",
       " [' ', ' ', ' ', ' ', ' ', ' ', ' ', ' ', ' ', ' '],\n",
       " [' ', 'N', 'R', ' ', ' ', ' ', ' ', ' ', ' ', ' ']]"
      ]
     },
     "execution_count": 75,
     "metadata": {},
     "output_type": "execute_result"
    }
   ],
   "source": [
    "coords_words_last"
   ]
  },
  {
   "cell_type": "code",
   "execution_count": 76,
   "metadata": {},
   "outputs": [
    {
     "data": {
      "text/plain": [
       "'          /          /          /    K     /  R       /          / P    N   /          /    P     /NB        '"
      ]
     },
     "execution_count": 76,
     "metadata": {},
     "output_type": "execute_result"
    }
   ],
   "source": [
    "sol_gen = ('/').join([('').join([el if el != '0.0' else ' ' for el in row]) for row in coords_sol])\n",
    "sol_gen"
   ]
  },
  {
   "cell_type": "code",
   "execution_count": 77,
   "metadata": {},
   "outputs": [
    {
     "name": "stdout",
     "output_type": "stream",
     "text": [
      "          /          /          /    K     /  R       /          / P    N   /          /    P     /NB        \n"
     ]
    }
   ],
   "source": [
    "sol_renderer = DrawChessPosition(n=SIZE_LAST)\n",
    "sol_board = sol_renderer.draw(sol_gen)"
   ]
  },
  {
   "cell_type": "code",
   "execution_count": 78,
   "metadata": {},
   "outputs": [
    {
     "data": {
      "image/png": "[encoded data removed]",
      "text/plain": [
       "<PIL.Image.Image image mode=LA size=600x600 at 0x7F276B76EBB0>"
      ]
     },
     "execution_count": 78,
     "metadata": {},
     "output_type": "execute_result"
    }
   ],
   "source": [
    "sol_board"
   ]
  },
  {
   "cell_type": "markdown",
   "metadata": {},
   "source": [
    "## ABT"
   ]
  },
  {
   "cell_type": "code",
   "execution_count": 825,
   "metadata": {},
   "outputs": [],
   "source": [
    "CONFIG_LAST = {'P': 8, 'N': 2, 'Q': 1}\n",
    "SIZE_LAST = 8"
   ]
  },
  {
   "cell_type": "code",
   "execution_count": 826,
   "metadata": {},
   "outputs": [],
   "source": [
    "chess_board_last = ChessBoard(SIZE_LAST, CONFIG_LAST)"
   ]
  },
  {
   "cell_type": "code",
   "execution_count": 827,
   "metadata": {},
   "outputs": [
    {
     "name": "stdout",
     "output_type": "stream",
     "text": [
      "        /       P/   N    /    P  P/P       /  Q P P /P       /     NP \n"
     ]
    }
   ],
   "source": [
    "board_last, gen_last = chess_board_last.generate_board()"
   ]
  },
  {
   "cell_type": "code",
   "execution_count": 828,
   "metadata": {},
   "outputs": [
    {
     "data": {
      "image/png": "[encoded data removed]",
      "text/plain": [
       "<PIL.Image.Image image mode=LA size=480x480 at 0x7FAAA17BD310>"
      ]
     },
     "execution_count": 828,
     "metadata": {},
     "output_type": "execute_result"
    }
   ],
   "source": [
    "board_last"
   ]
  },
  {
   "cell_type": "code",
   "execution_count": 829,
   "metadata": {},
   "outputs": [],
   "source": [
    "coords_last, coords_words_last, coords_dict_last, figures_mapping_last = chess_board_last.get_coordinates_map(\n",
    "    board_last, gen_last)"
   ]
  },
  {
   "cell_type": "code",
   "execution_count": 830,
   "metadata": {},
   "outputs": [
    {
     "data": {
      "text/plain": [
       "[[' ', ' ', ' ', ' ', ' ', ' ', ' ', ' '],\n",
       " [' ', ' ', ' ', ' ', ' ', ' ', ' ', 'P'],\n",
       " [' ', ' ', ' ', 'N', ' ', ' ', ' ', ' '],\n",
       " [' ', ' ', ' ', ' ', 'P', ' ', ' ', 'P'],\n",
       " ['P', ' ', ' ', ' ', ' ', ' ', ' ', ' '],\n",
       " [' ', ' ', 'Q', ' ', 'P', ' ', 'P', ' '],\n",
       " ['P', ' ', ' ', ' ', ' ', ' ', ' ', ' '],\n",
       " [' ', ' ', ' ', ' ', ' ', 'N', 'P', ' ']]"
      ]
     },
     "execution_count": 830,
     "metadata": {},
     "output_type": "execute_result"
    }
   ],
   "source": [
    "coords_words_last"
   ]
  },
  {
   "cell_type": "code",
   "execution_count": 831,
   "metadata": {},
   "outputs": [
    {
     "data": {
      "text/plain": [
       "array([[0., 0., 0., 0., 0., 0., 0., 0.],\n",
       "       [0., 0., 0., 0., 0., 0., 0., 8.],\n",
       "       [0., 0., 0., 2., 0., 0., 0., 0.],\n",
       "       [0., 0., 0., 0., 8., 0., 0., 8.],\n",
       "       [8., 0., 0., 0., 0., 0., 0., 0.],\n",
       "       [0., 0., 1., 0., 8., 0., 8., 0.],\n",
       "       [8., 0., 0., 0., 0., 0., 0., 0.],\n",
       "       [0., 0., 0., 0., 0., 2., 8., 0.]])"
      ]
     },
     "execution_count": 831,
     "metadata": {},
     "output_type": "execute_result"
    }
   ],
   "source": [
    "coords_last"
   ]
  },
  {
   "cell_type": "code",
   "execution_count": 832,
   "metadata": {},
   "outputs": [],
   "source": [
    "all_domain = list(product(range(SIZE_LAST), range(SIZE_LAST)))"
   ]
  },
  {
   "cell_type": "code",
   "execution_count": 35,
   "metadata": {},
   "outputs": [],
   "source": [
    "all_domain = list(product(range(SIZE), range(SIZE)))"
   ]
  },
  {
   "cell_type": "code",
   "execution_count": 36,
   "metadata": {},
   "outputs": [],
   "source": [
    "import random\n",
    "import copy\n",
    "\n",
    "\n",
    "class Agent:\n",
    "    def __init__(self, figure, priority, neighbor_list, domain, board):\n",
    "        self.figure = figure\n",
    "        self.priority = priority\n",
    "        self.neighbors_list = copy.deepcopy(neighbor_list)\n",
    "        self.agent_domain = domain\n",
    "        self.consistent = True\n",
    "        self.constraints = []\n",
    "        self.board = board\n",
    "\n",
    "    def check_consistency(self):\n",
    "        self.consistent = True\n",
    "        for neighbor in self.neighbors_list:\n",
    "            if (neighbor.figure.attack(self.figure._coordinates, self.board.shape[0])\n",
    "                or self.figure._coordinates == neighbor.figure._coordinates):\n",
    "                self.consistent = False\n",
    "\n",
    "    def change_value(self):\n",
    "        self.figure._coordinates = random.choice(self.agent_domain)\n",
    "\n",
    "    def check_local_view(self):\n",
    "        #print(\"check_local_view for {0}\".format(self.figure._name))\n",
    "        self.check_consistency()\n",
    "        if not self.consistent:\n",
    "            #print(\"agent {0} value is not consistent with neighbor(s)\".format(self.figure._name))\n",
    "            old_value = self.figure._coordinates\n",
    "            for domain in self.agent_domain:\n",
    "                self.figure._coordinates = domain\n",
    "                self.check_consistency()\n",
    "                if self.consistent:\n",
    "                    break\n",
    "            if not self.consistent:\n",
    "                for agents in self.neighbors_list:\n",
    "                    if agents.priority == self.priority - 1:\n",
    "                        master_agent = agents\n",
    "                #print(\"backtracking for agent {0}\".format(self.figure._name))\n",
    "                backtrack(master_agent)\n",
    "            else:\n",
    "                for agents in self.neighbors_list:\n",
    "                    send_handle_ok(self)\n",
    "\n",
    "    def handle_ok(self, agent):\n",
    "        for neighbor in self.neighbors_list:\n",
    "            #print(\"handle_ok? for agent {0}\".format(agent.figure._name))\n",
    "            if neighbor.figure._name == agent.figure._name:\n",
    "                neighbor.figure._coordinates = agent.figure._coordinates\n",
    "                neighbor.priority = agent.priority\n",
    "                self.check_local_view()\n",
    "\n",
    "    def handle_nogood(self, agent, nogood_list):\n",
    "        self.constraints.append(nogood_list)\n",
    "        for agent_in_nogood in nogood_list:\n",
    "            if any(neighbor_agent['name'] == agent_in_nogood[0] for neighbor_agent in self.neighbors_list):\n",
    "                pass\n",
    "            else:\n",
    "                self.neighbors_list.append(\n",
    "                    {'name': agent_in_nogood[0], 'value': agent_in_nogood[1], 'priority': agent_in_nogood[2]})\n",
    "        old_value = self.figure._coordinates\n",
    "        self.check_local_view()\n",
    "        if old_value != self.figure._coordinates:\n",
    "            for agents in self.neighbors_list:\n",
    "                send_handle_ok(self)\n",
    "\n",
    "\n",
    "def backtrack(master_agent):\n",
    "    higher_priority_agents = []\n",
    "    higher_domains = []\n",
    "    for neighbor in master_agent.neighbors_list:\n",
    "        if neighbor.priority < master_agent.priority:\n",
    "            higher_priority_agents.append(neighbor)\n",
    "    for agent in higher_priority_agents:\n",
    "        higher_domains.append(agent.figure._coordinates)\n",
    "    if master_agent.agent_domain == higher_domains:\n",
    "        print(\"no_solution\")\n",
    "    else:\n",
    "        if not (master_agent.figure._coordinates in higher_domains):\n",
    "            print(\"no_solution\")\n",
    "            return 0\n",
    "        while master_agent.figure._coordinates in higher_domains:\n",
    "            master_agent.figure._coordinates = random.choice(master_agent.agent_domain)\n",
    "        for agents in master_agent.neighbors_list:\n",
    "            if agents.priority > master_agent.priority:\n",
    "                send_handle_ok(master_agent)\n",
    "\n",
    "\n",
    "def send_handle_ok(agent):\n",
    "    for agents in agent.neighbors_list:\n",
    "        if agents:\n",
    "            if agents.priority > agent.priority:\n",
    "                agents.handle_ok(agent)\n",
    "\n",
    "\n",
    "def abt(agent_list):\n",
    "    processed_agents = []\n",
    "    for i, agent in enumerate(agent_list):\n",
    "        agent.check_consistency()\n",
    "        send_handle_ok(agent)\n",
    "        processed_agents.append(agent)\n",
    "        \n",
    "#         if i > 0:\n",
    "        new_domain = list(set(all_domain) - set([ag.figure._coordinates for ag in processed_agents]))\n",
    "        agent.agent_domain = new_domain\n",
    "\n",
    "        new_neighbours = []\n",
    "        for neighbour in agent.neighbors_list:\n",
    "            neighbour.agent_domain = new_domain\n",
    "\n",
    "            new_neighbours.append(neighbour)\n",
    "\n",
    "        agent.neighbors_list = new_neighbours"
   ]
  },
  {
   "cell_type": "code",
   "execution_count": 834,
   "metadata": {},
   "outputs": [
    {
     "data": {
      "text/plain": [
       "{'P': [(1, 7), (3, 4), (3, 7), (4, 0), (5, 4), (5, 6), (6, 0), (7, 6)],\n",
       " 'N': [(2, 3), (7, 5)],\n",
       " 'Q': [(5, 2)]}"
      ]
     },
     "execution_count": 834,
     "metadata": {},
     "output_type": "execute_result"
    }
   ],
   "source": [
    "coords_dict_last"
   ]
  },
  {
   "cell_type": "code",
   "execution_count": 835,
   "metadata": {},
   "outputs": [
    {
     "data": {
      "text/plain": [
       "{(1, 7): <__main__.Pawn at 0x7faaa1e12880>,\n",
       " (3, 4): <__main__.Pawn at 0x7faaa1e12ee0>,\n",
       " (3, 7): <__main__.Pawn at 0x7faaa1e12c40>,\n",
       " (4, 0): <__main__.Pawn at 0x7faaa1e12430>,\n",
       " (5, 4): <__main__.Pawn at 0x7faaa1e12970>,\n",
       " (5, 6): <__main__.Pawn at 0x7faaa1e12730>,\n",
       " (6, 0): <__main__.Pawn at 0x7faaa1e12580>,\n",
       " (7, 6): <__main__.Pawn at 0x7faaa1e126d0>,\n",
       " (2, 3): <__main__.Knight at 0x7faaa1e12280>,\n",
       " (7, 5): <__main__.Knight at 0x7faaa1e121f0>,\n",
       " (5, 2): <__main__.Queen at 0x7faaa1822220>}"
      ]
     },
     "execution_count": 835,
     "metadata": {},
     "output_type": "execute_result"
    }
   ],
   "source": [
    "figures_mapping_last"
   ]
  },
  {
   "cell_type": "code",
   "execution_count": 37,
   "metadata": {},
   "outputs": [],
   "source": [
    "figures_mapping_last_changed_names = deepcopy(figures_mapping)\n",
    "\n",
    "for coords1, figure in figures_mapping_last_changed_names.items():\n",
    "    new_fig = deepcopy(figure)\n",
    "    new_fig._name = '{}_{}'.format(figure._name, coords1)\n",
    "    figures_mapping_last_changed_names[coords1] = new_fig"
   ]
  },
  {
   "cell_type": "code",
   "execution_count": 38,
   "metadata": {},
   "outputs": [],
   "source": [
    "agents = [Agent(figure, i + 1, [], all_domain, coords) \n",
    "          for i, figure in enumerate(figures_mapping_last_changed_names.values())]"
   ]
  },
  {
   "cell_type": "code",
   "execution_count": 39,
   "metadata": {},
   "outputs": [],
   "source": [
    "for idx, agent in enumerate(agents):\n",
    "    agent.neighbors_list.extend([ag for ag_idx, ag in enumerate(agents) if ag_idx != idx])"
   ]
  },
  {
   "cell_type": "code",
   "execution_count": 33,
   "metadata": {},
   "outputs": [
    {
     "data": {
      "text/plain": [
       "<__main__.Bishop at 0x7fd804d418b0>"
      ]
     },
     "execution_count": 33,
     "metadata": {},
     "output_type": "execute_result"
    }
   ],
   "source": [
    "agents[0].figure"
   ]
  },
  {
   "cell_type": "code",
   "execution_count": 34,
   "metadata": {},
   "outputs": [
    {
     "data": {
      "text/plain": [
       "[<__main__.Bishop at 0x7fd804c12970>,\n",
       " <__main__.Bishop at 0x7fd804c12040>,\n",
       " <__main__.Knight at 0x7fd804c12d30>,\n",
       " <__main__.Knight at 0x7fd804c12e50>,\n",
       " <__main__.Pawn at 0x7fd8052c6f70>,\n",
       " <__main__.Pawn at 0x7fd804d41640>,\n",
       " <__main__.Pawn at 0x7fd804d41f40>,\n",
       " <__main__.Pawn at 0x7fd804d415b0>,\n",
       " <__main__.Rook at 0x7fd804d41eb0>]"
      ]
     },
     "execution_count": 34,
     "metadata": {},
     "output_type": "execute_result"
    }
   ],
   "source": [
    "[el.figure for el in agents[0].neighbors_list]"
   ]
  },
  {
   "cell_type": "code",
   "execution_count": 40,
   "metadata": {},
   "outputs": [],
   "source": [
    "abt(agents)"
   ]
  },
  {
   "cell_type": "code",
   "execution_count": 842,
   "metadata": {},
   "outputs": [
    {
     "data": {
      "text/plain": [
       "(1, 7)"
      ]
     },
     "execution_count": 842,
     "metadata": {},
     "output_type": "execute_result"
    }
   ],
   "source": [
    "agents[0].figure._coordinates"
   ]
  },
  {
   "cell_type": "code",
   "execution_count": 843,
   "metadata": {},
   "outputs": [
    {
     "name": "stdout",
     "output_type": "stream",
     "text": [
      "P_(1, 7) (1, 7)\n",
      "P_(3, 4) (0, 0)\n",
      "P_(3, 7) (3, 7)\n",
      "P_(4, 0) (4, 0)\n",
      "P_(5, 4) (0, 1)\n",
      "P_(5, 6) (0, 3)\n",
      "P_(6, 0) (6, 0)\n",
      "P_(7, 6) (7, 6)\n",
      "N_(2, 3) (2, 3)\n",
      "N_(7, 5) (7, 5)\n",
      "Q_(5, 2) (5, 2)\n"
     ]
    }
   ],
   "source": [
    "for agent in agents:\n",
    "    print(agent.figure._name, agent.figure._coordinates)"
   ]
  },
  {
   "cell_type": "code",
   "execution_count": 41,
   "metadata": {},
   "outputs": [],
   "source": [
    "coords_sol = np.zeros((SIZE, SIZE)).astype(str)\n",
    "coords_sol = [[' ' if el1 == '0.0' else el1 for el1 in el] for el in coords_sol]"
   ]
  },
  {
   "cell_type": "code",
   "execution_count": 42,
   "metadata": {},
   "outputs": [],
   "source": [
    "for agent in agents:\n",
    "    coords_sol[agent.figure._coordinates[0]][agent.figure._coordinates[1]] = agent.figure._name.split('_')[0]"
   ]
  },
  {
   "cell_type": "code",
   "execution_count": 43,
   "metadata": {},
   "outputs": [
    {
     "data": {
      "text/plain": [
       "[['B', 'B', 'N', 'P', ' ', 'P', ' ', ' ', ' ', ' '],\n",
       " [' ', ' ', ' ', ' ', ' ', ' ', ' ', ' ', ' ', ' '],\n",
       " [' ', ' ', ' ', ' ', ' ', ' ', ' ', 'P', ' ', ' '],\n",
       " [' ', ' ', ' ', ' ', ' ', ' ', ' ', ' ', ' ', ' '],\n",
       " [' ', ' ', 'N', ' ', ' ', ' ', ' ', ' ', ' ', ' '],\n",
       " [' ', ' ', ' ', ' ', ' ', ' ', ' ', ' ', ' ', ' '],\n",
       " [' ', ' ', ' ', ' ', ' ', ' ', ' ', ' ', 'P', ' '],\n",
       " [' ', ' ', ' ', ' ', ' ', ' ', ' ', ' ', ' ', ' '],\n",
       " [' ', ' ', ' ', ' ', 'B', ' ', ' ', ' ', ' ', ' '],\n",
       " [' ', ' ', ' ', ' ', ' ', ' ', 'R', ' ', ' ', ' ']]"
      ]
     },
     "execution_count": 43,
     "metadata": {},
     "output_type": "execute_result"
    }
   ],
   "source": [
    "coords_sol"
   ]
  },
  {
   "cell_type": "code",
   "execution_count": 44,
   "metadata": {},
   "outputs": [
    {
     "data": {
      "text/plain": [
       "'BBNP P    /          /       P  /          /  N       /          /        P /          /    B     /      R   '"
      ]
     },
     "execution_count": 44,
     "metadata": {},
     "output_type": "execute_result"
    }
   ],
   "source": [
    "sol_gen = ('/').join([('').join([el if el != '0.0' else ' ' for el in row]) for row in coords_sol])\n",
    "sol_gen"
   ]
  },
  {
   "cell_type": "code",
   "execution_count": 45,
   "metadata": {},
   "outputs": [
    {
     "name": "stdout",
     "output_type": "stream",
     "text": [
      "BBNP P    /          /       P  /          /  N       /          /        P /          /    B     /      R   \n"
     ]
    }
   ],
   "source": [
    "sol_renderer = DrawChessPosition(n=SIZE)\n",
    "sol_board = sol_renderer.draw(sol_gen)"
   ]
  },
  {
   "cell_type": "code",
   "execution_count": 46,
   "metadata": {},
   "outputs": [
    {
     "data": {
      "image/png": "[encoded data removed]",
      "text/plain": [
       "<PIL.Image.Image image mode=LA size=600x600 at 0x7FA1240D7CD0>"
      ]
     },
     "execution_count": 46,
     "metadata": {},
     "output_type": "execute_result"
    }
   ],
   "source": [
    "sol_board"
   ]
  },
  {
   "cell_type": "code",
   "execution_count": null,
   "metadata": {},
   "outputs": [],
   "source": []
  },
  {
   "cell_type": "code",
   "execution_count": null,
   "metadata": {},
   "outputs": [],
   "source": []
  },
  {
   "cell_type": "code",
   "execution_count": null,
   "metadata": {},
   "outputs": [],
   "source": []
  },
  {
   "cell_type": "code",
   "execution_count": null,
   "metadata": {},
   "outputs": [],
   "source": []
  },
  {
   "cell_type": "code",
   "execution_count": null,
   "metadata": {},
   "outputs": [],
   "source": []
  },
  {
   "cell_type": "code",
   "execution_count": null,
   "metadata": {},
   "outputs": [],
   "source": []
  },
  {
   "cell_type": "code",
   "execution_count": null,
   "metadata": {},
   "outputs": [],
   "source": []
  },
  {
   "cell_type": "code",
   "execution_count": null,
   "metadata": {},
   "outputs": [],
   "source": []
  },
  {
   "cell_type": "code",
   "execution_count": null,
   "metadata": {},
   "outputs": [],
   "source": []
  },
  {
   "cell_type": "code",
   "execution_count": null,
   "metadata": {},
   "outputs": [],
   "source": []
  },
  {
   "cell_type": "code",
   "execution_count": null,
   "metadata": {},
   "outputs": [],
   "source": []
  }
 ],
 "metadata": {
  "kernelspec": {
   "display_name": "Python 3",
   "language": "python",
   "name": "python3"
  },
  "language_info": {
   "codemirror_mode": {
    "name": "ipython",
    "version": 3
   },
   "file_extension": ".py",
   "mimetype": "text/x-python",
   "name": "python",
   "nbconvert_exporter": "python",
   "pygments_lexer": "ipython3",
   "version": "3.9.2"
  }
 },
 "nbformat": 4,
 "nbformat_minor": 4
}
