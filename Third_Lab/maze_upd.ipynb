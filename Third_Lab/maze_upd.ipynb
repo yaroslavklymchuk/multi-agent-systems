{
 "cells": [
  {
   "cell_type": "code",
   "execution_count": 19,
   "metadata": {},
   "outputs": [],
   "source": [
    "import numpy as np\n",
    "\n",
    "from algorithms import QLearning, ValueIteration\n",
    "from environments import MazeEnv\n",
    "\n",
    "import matplotlib.pyplot as plt"
   ]
  },
  {
   "cell_type": "code",
   "execution_count": 20,
   "metadata": {},
   "outputs": [],
   "source": [
    "def get_results(env_size, num_episodes, num_portals, min_eps_rate, min_learning_rate, learning_rate,\n",
    "                eps_rate, gamma, max_win_streak=100, \n",
    "                learning_rate_is_constant=False, eps_rate_is_constant=False, \n",
    "                debug=True, render_maze=True, recording_folder='./videos', enable_recording=True):\n",
    "    \n",
    "    env = MazeEnv(maze_size=env_size, num_portals=num_portals)\n",
    "    \n",
    "    qlearning = QLearning(env=env, num_episodes=num_episodes, min_epsilon_rate=min_eps_rate, \n",
    "                          min_learning_rate=min_learning_rate, learning_rate=learning_rate,\n",
    "                          epsilon_rate=eps_rate, gamma=gamma, max_win_streak=max_win_streak,\n",
    "                          learning_rate_is_constant=learning_rate_is_constant, \n",
    "                          epsilon_rate_is_constant=eps_rate_is_constant, debug=debug, render_maze=render_maze,\n",
    "                          recording_folder=recording_folder, enable_recording=enable_recording\n",
    "                         )\n",
    "    \n",
    "    total_rewards, total_streaks, steps_qty = qlearning.main()\n",
    "    \n",
    "    return total_rewards, total_streaks, steps_qty"
   ]
  },
  {
   "cell_type": "code",
   "execution_count": 21,
   "metadata": {},
   "outputs": [
    {
     "name": "stderr",
     "output_type": "stream",
     "text": [
      "/home/klimchuk/.local/lib/python3.6/site-packages/gym/logger.py:30: UserWarning: \u001b[33mWARN: Trying to monitor an environment which has no 'spec' set. This usually means you did not create it via 'gym.make', and is recommended only for advanced users.\u001b[0m\n",
      "  warnings.warn(colorize('%s: %s'%('WARN', msg % args), 'yellow'))\n"
     ]
    },
    {
     "name": "stdout",
     "output_type": "stream",
     "text": [
      "\n",
      "Episode = 0\n",
      "t = 59\n",
      "Explore rate: 0.800000\n",
      "Learning rate: 0.800000\n",
      "Streaks: 0\n",
      "Total reward: 0.938000\n",
      "Average Streaks: 0.000000\n",
      "Average Rewards: 0.938000\n",
      "\n",
      "Episode 0 finished after 59.000000 time steps with total reward = 0.938000 (streak 0).\n"
     ]
    },
    {
     "ename": "SystemExit",
     "evalue": "",
     "output_type": "error",
     "traceback": [
      "An exception has occurred, use %tb to see the full traceback.\n",
      "\u001b[0;31mSystemExit\u001b[0m\n"
     ]
    },
    {
     "name": "stderr",
     "output_type": "stream",
     "text": [
      "/home/klimchuk/.local/lib/python3.6/site-packages/IPython/core/interactiveshell.py:3339: UserWarning: To exit: use 'exit', 'quit', or Ctrl-D.\n",
      "  warn(\"To exit: use 'exit', 'quit', or Ctrl-D.\", stacklevel=1)\n"
     ]
    }
   ],
   "source": [
    "total_rewards, total_streaks, steps_qty = get_results((10, 10), 500, 2, 1e-2, 0.5, 0.1, 0.5, 0.8)"
   ]
  },
  {
   "cell_type": "code",
   "execution_count": 4,
   "metadata": {},
   "outputs": [
    {
     "data": {
      "text/plain": [
       "119"
      ]
     },
     "execution_count": 4,
     "metadata": {},
     "output_type": "execute_result"
    }
   ],
   "source": [
    "len(total_rewards)"
   ]
  },
  {
   "cell_type": "code",
   "execution_count": 5,
   "metadata": {},
   "outputs": [
    {
     "data": {
      "image/png": "[encoded data removed]",
      "text/plain": [
       "<Figure size 720x360 with 1 Axes>"
      ]
     },
     "metadata": {
      "needs_background": "light"
     },
     "output_type": "display_data"
    }
   ],
   "source": [
    "plt.figure(figsize=(10, 5))\n",
    "\n",
    "plt.plot(total_rewards);"
   ]
  },
  {
   "cell_type": "code",
   "execution_count": 6,
   "metadata": {},
   "outputs": [
    {
     "data": {
      "text/plain": [
       "0.9123613445378159"
      ]
     },
     "execution_count": 6,
     "metadata": {},
     "output_type": "execute_result"
    }
   ],
   "source": [
    "np.mean(total_rewards)"
   ]
  },
  {
   "cell_type": "code",
   "execution_count": 5,
   "metadata": {},
   "outputs": [],
   "source": [
    "def get_results_iteration(env_size, num_portals, gamma, epsilon, make_action_proba=1, max_win_streak=100, \n",
    "                debug=True, render_maze=True, recording_folder='./videos', enable_recording=True):\n",
    "    \n",
    "    env = MazeEnv(maze_size=env_size, num_portals=num_portals)\n",
    "    \n",
    "    viter = ValueIteration(env=env, gamma=gamma, epsilon=epsilon, make_action_proba=make_action_proba,\n",
    "                               max_win_streak=max_win_streak, debug=debug, render_maze=render_maze,\n",
    "                               recording_folder=recording_folder, enable_recording=enable_recording\n",
    "                              )\n",
    "    \n",
    "    total_rewards, total_streaks, steps_qty = viter.main()\n",
    "    \n",
    "    return total_rewards, total_streaks, steps_qty"
   ]
  },
  {
   "cell_type": "code",
   "execution_count": 16,
   "metadata": {
    "scrolled": true
   },
   "outputs": [
    {
     "name": "stderr",
     "output_type": "stream",
     "text": [
      "/home/klimchuk/.local/lib/python3.6/site-packages/gym/logger.py:30: UserWarning: \u001b[33mWARN: Trying to monitor an environment which has no 'spec' set. This usually means you did not create it via 'gym.make', and is recommended only for advanced users.\u001b[0m\n",
      "  warnings.warn(colorize('%s: %s'%('WARN', msg % args), 'yellow'))\n"
     ]
    },
    {
     "name": "stdout",
     "output_type": "stream",
     "text": [
      "Iteration: 11\n",
      "t = 20\n",
      "Streaks: 0\n",
      "Total reward: 4.641247\n",
      "Average Streaks: 0.000000\n",
      "Average Rewards: 0.221012\n",
      "\n",
      "Finished after 20.000000 time steps with total reward = 4.641247 (streak 0).\n",
      "Iteration: 16\n",
      "t = 26\n",
      "Streaks: 1\n",
      "Total reward: 11.657248\n",
      "Average Streaks: 0.037037\n",
      "Average Rewards: 0.431750\n",
      "\n",
      "Finished after 26.000000 time steps with total reward = 11.657248 (streak 1).\n",
      "Iteration: 17\n",
      "t = 27\n",
      "Streaks: 2\n",
      "Total reward: 20.488341\n",
      "Average Streaks: 0.071429\n",
      "Average Rewards: 0.731726\n",
      "\n",
      "Finished after 27.000000 time steps with total reward = 20.488341 (streak 2).\n",
      "Iteration: 18\n",
      "t = 27\n",
      "Streaks: 3\n",
      "Total reward: 29.417439\n",
      "Average Streaks: 0.107143\n",
      "Average Rewards: 1.050623\n",
      "\n",
      "Finished after 27.000000 time steps with total reward = 29.417439 (streak 3).\n",
      "Iteration: 19\n",
      "t = 27\n",
      "Streaks: 4\n",
      "Total reward: 38.434829\n",
      "Average Streaks: 0.142857\n",
      "Average Rewards: 1.372672\n",
      "\n",
      "Finished after 27.000000 time steps with total reward = 38.434829 (streak 4).\n",
      "Iteration: 20\n",
      "t = 27\n",
      "Streaks: 5\n",
      "Total reward: 47.531762\n",
      "Average Streaks: 0.178571\n",
      "Average Rewards: 1.697563\n",
      "\n",
      "Finished after 27.000000 time steps with total reward = 47.531762 (streak 5).\n",
      "Iteration: 21\n",
      "t = 27\n",
      "Streaks: 6\n",
      "Total reward: 56.765031\n",
      "Average Streaks: 0.214286\n",
      "Average Rewards: 2.027323\n",
      "\n",
      "Finished after 27.000000 time steps with total reward = 56.765031 (streak 6).\n",
      "Iteration: 22\n",
      "t = 27\n",
      "Streaks: 7\n",
      "Total reward: 66.056450\n",
      "Average Streaks: 0.250000\n",
      "Average Rewards: 2.359159\n",
      "\n",
      "Finished after 27.000000 time steps with total reward = 66.056450 (streak 7).\n",
      "Iteration: 23\n",
      "t = 27\n",
      "Streaks: 8\n",
      "Total reward: 75.347869\n",
      "Average Streaks: 0.285714\n",
      "Average Rewards: 2.690995\n",
      "\n",
      "Finished after 27.000000 time steps with total reward = 75.347869 (streak 8).\n",
      "Iteration: 24\n",
      "t = 27\n",
      "Streaks: 9\n",
      "Total reward: 84.639288\n",
      "Average Streaks: 0.321429\n",
      "Average Rewards: 3.022832\n",
      "\n",
      "Finished after 27.000000 time steps with total reward = 84.639288 (streak 9).\n"
     ]
    }
   ],
   "source": [
    "total_rewards, total_streaks, steps_qty = get_results_iteration((10, 10), 3, 0.9, 0.001)"
   ]
  },
  {
   "cell_type": "code",
   "execution_count": 17,
   "metadata": {},
   "outputs": [
    {
     "data": {
      "text/plain": [
       "10.549786965429632"
      ]
     },
     "execution_count": 17,
     "metadata": {},
     "output_type": "execute_result"
    }
   ],
   "source": [
    "np.mean(total_rewards)"
   ]
  },
  {
   "cell_type": "code",
   "execution_count": 18,
   "metadata": {},
   "outputs": [
    {
     "data": {
      "image/png": "[encoded data removed]",
      "text/plain": [
       "<Figure size 720x360 with 1 Axes>"
      ]
     },
     "metadata": {
      "needs_background": "light"
     },
     "output_type": "display_data"
    }
   ],
   "source": [
    "plt.figure(figsize=(10, 5))\n",
    "\n",
    "plt.plot(total_rewards);"
   ]
  },
  {
   "cell_type": "code",
   "execution_count": null,
   "metadata": {},
   "outputs": [],
   "source": []
  },
  {
   "cell_type": "code",
   "execution_count": null,
   "metadata": {},
   "outputs": [],
   "source": []
  },
  {
   "cell_type": "code",
   "execution_count": null,
   "metadata": {},
   "outputs": [],
   "source": []
  }
 ],
 "metadata": {
  "kernelspec": {
   "display_name": "Python 3",
   "language": "python",
   "name": "python3"
  },
  "language_info": {
   "codemirror_mode": {
    "name": "ipython",
    "version": 3
   },
   "file_extension": ".py",
   "mimetype": "text/x-python",
   "name": "python",
   "nbconvert_exporter": "python",
   "pygments_lexer": "ipython3",
   "version": "3.6.9"
  }
 },
 "nbformat": 4,
 "nbformat_minor": 4
}
