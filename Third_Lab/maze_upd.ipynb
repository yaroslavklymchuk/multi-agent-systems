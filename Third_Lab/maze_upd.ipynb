{
 "cells": [
  {
   "cell_type": "code",
   "execution_count": 1,
   "metadata": {},
   "outputs": [
    {
     "name": "stdout",
     "output_type": "stream",
     "text": [
      "pygame 2.0.1 (SDL 2.0.14, Python 3.9.2)\n",
      "Hello from the pygame community. https://www.pygame.org/contribute.html\n"
     ]
    }
   ],
   "source": [
    "import numpy as np\n",
    "\n",
    "from algorithms import QLearning, ValueIteration\n",
    "from environments import MazeEnv\n",
    "\n",
    "import matplotlib.pyplot as plt"
   ]
  },
  {
   "cell_type": "code",
   "execution_count": 2,
   "metadata": {},
   "outputs": [],
   "source": [
    "def get_results(env_size, num_episodes, num_portals, min_eps_rate, min_learning_rate, learning_rate,\n",
    "                eps_rate, gamma, max_win_streak=100, \n",
    "                learning_rate_is_constant=False, eps_rate_is_constant=False, \n",
    "                debug=True, render_maze=True, recording_folder='./videos', enable_recording=True):\n",
    "    \n",
    "    env = MazeEnv(maze_size=env_size, num_portals=num_portals)\n",
    "    \n",
    "    qlearning = QLearning(env=env, num_episodes=num_episodes, min_epsilon_rate=min_eps_rate, \n",
    "                          min_learning_rate=min_learning_rate, learning_rate=learning_rate,\n",
    "                          epsilon_rate=eps_rate, gamma=gamma, max_win_streak=max_win_streak,\n",
    "                          learning_rate_is_constant=learning_rate_is_constant, \n",
    "                          epsilon_rate_is_constant=eps_rate_is_constant, debug=debug, render_maze=render_maze,\n",
    "                          recording_folder=recording_folder, enable_recording=enable_recording\n",
    "                         )\n",
    "    \n",
    "    total_rewards, total_streaks, steps_qty = qlearning.main()\n",
    "    \n",
    "    return total_rewards, total_streaks, steps_qty"
   ]
  },
  {
   "cell_type": "code",
   "execution_count": 3,
   "metadata": {},
   "outputs": [
    {
     "name": "stderr",
     "output_type": "stream",
     "text": [
      "/home/yaroslav/.local/lib/python3.9/site-packages/gym/logger.py:30: UserWarning: \u001b[33mWARN: Trying to monitor an environment which has no 'spec' set. This usually means you did not create it via 'gym.make', and is recommended only for advanced users.\u001b[0m\n",
      "  warnings.warn(colorize('%s: %s'%('WARN', msg % args), 'yellow'))\n"
     ]
    },
    {
     "name": "stdout",
     "output_type": "stream",
     "text": [
      "\n",
      "Episode = 0\n",
      "t = 67\n",
      "Explore rate: 0.800000\n",
      "Learning rate: 0.800000\n",
      "Streaks: 0\n",
      "Total reward: -6.000000\n",
      "Average Streaks: 0.000000\n",
      "Average Rewards: -6.000000\n",
      "\n",
      "Episode 0 finished after 67.000000 time steps with total reward = -6.000000 (streak 0).\n",
      "\n",
      "Episode = 1\n",
      "t = 44\n",
      "Explore rate: 0.800000\n",
      "Learning rate: 0.800000\n",
      "Streaks: 0\n",
      "Total reward: -2.000000\n",
      "Average Streaks: 0.000000\n",
      "Average Rewards: -1.000000\n",
      "\n",
      "Episode 1 finished after 44.000000 time steps with total reward = -2.000000 (streak 0).\n",
      "\n",
      "Episode = 2\n",
      "t = 191\n",
      "Explore rate: 0.800000\n",
      "Learning rate: 0.800000\n",
      "Streaks: 0\n",
      "Total reward: -16.500000\n",
      "Average Streaks: 0.000000\n",
      "Average Rewards: -5.500000\n",
      "\n",
      "Episode 2 finished after 191.000000 time steps with total reward = -16.500000 (streak 0).\n",
      "\n",
      "Episode = 3\n",
      "t = 66\n",
      "Explore rate: 0.800000\n",
      "Learning rate: 0.800000\n",
      "Streaks: 0\n",
      "Total reward: -7.000000\n",
      "Average Streaks: 0.000000\n",
      "Average Rewards: -1.750000\n",
      "\n",
      "Episode 3 finished after 66.000000 time steps with total reward = -7.000000 (streak 0).\n"
     ]
    },
    {
     "ename": "SystemExit",
     "evalue": "",
     "output_type": "error",
     "traceback": [
      "An exception has occurred, use %tb to see the full traceback.\n",
      "\u001b[0;31mSystemExit\u001b[0m\n"
     ]
    },
    {
     "name": "stderr",
     "output_type": "stream",
     "text": [
      "/home/yaroslav/.local/lib/python3.9/site-packages/IPython/core/interactiveshell.py:3445: UserWarning: To exit: use 'exit', 'quit', or Ctrl-D.\n",
      "  warn(\"To exit: use 'exit', 'quit', or Ctrl-D.\", stacklevel=1)\n"
     ]
    }
   ],
   "source": [
    "total_rewards, total_streaks, steps_qty = get_results((5, 5), 500, 2, 1e-2, 0.5, 0.1, 0.5, 0.8)"
   ]
  },
  {
   "cell_type": "code",
   "execution_count": 4,
   "metadata": {},
   "outputs": [
    {
     "data": {
      "text/plain": [
       "112"
      ]
     },
     "execution_count": 4,
     "metadata": {},
     "output_type": "execute_result"
    }
   ],
   "source": [
    "len(total_rewards)"
   ]
  },
  {
   "cell_type": "code",
   "execution_count": 5,
   "metadata": {},
   "outputs": [
    {
     "data": {
      "image/png": "[encoded data removed]",
      "text/plain": [
       "<Figure size 720x360 with 1 Axes>"
      ]
     },
     "metadata": {
      "needs_background": "light"
     },
     "output_type": "display_data"
    }
   ],
   "source": [
    "plt.figure(figsize=(10, 5))\n",
    "\n",
    "plt.plot(total_rewards);"
   ]
  },
  {
   "cell_type": "code",
   "execution_count": 6,
   "metadata": {},
   "outputs": [
    {
     "data": {
      "text/plain": [
       "0.8619642857142856"
      ]
     },
     "execution_count": 6,
     "metadata": {},
     "output_type": "execute_result"
    }
   ],
   "source": [
    "np.mean(total_rewards)"
   ]
  },
  {
   "cell_type": "code",
   "execution_count": 2,
   "metadata": {},
   "outputs": [],
   "source": [
    "def get_results_iteration(env_size, num_portals, gamma, epsilon, small, make_action_proba=1, max_win_streak=100, \n",
    "                debug=True, render_maze=True, recording_folder='./videos', enable_recording=True):\n",
    "    \n",
    "    env = MazeEnv(maze_size=env_size, num_portals=num_portals)\n",
    "    \n",
    "    viter = ValueIteration(env=env, gamma=gamma, epsilon=epsilon, small=small,make_action_proba=make_action_proba,\n",
    "                               max_win_streak=max_win_streak, debug=debug, render_maze=render_maze,\n",
    "                               recording_folder=recording_folder, enable_recording=enable_recording\n",
    "                              )\n",
    "    \n",
    "    total_rewards, total_streaks, steps_qty = viter.main()\n",
    "    \n",
    "    return total_rewards, total_streaks, steps_qty"
   ]
  },
  {
   "cell_type": "code",
   "execution_count": 3,
   "metadata": {},
   "outputs": [
    {
     "name": "stdout",
     "output_type": "stream",
     "text": [
      "(0, 0) ['S', 'E']\n",
      "(0, 1) ['E', 'N']\n",
      "(0, 2) ['S', 'E']\n",
      "(0, 3) ['S', 'N']\n",
      "(0, 4) ['S', 'N']\n",
      "(0, 5) ['E', 'N']\n",
      "(0, 6) ['S']\n",
      "(0, 7) ['S', 'E', 'N']\n",
      "(0, 8) ['S', 'N']\n",
      "(0, 9) ['N']\n",
      "(1, 0) ['E', 'W']\n",
      "(1, 1) ['W']\n",
      "(1, 2) ['S', 'W']\n",
      "(1, 3) ['E', 'N']\n",
      "(1, 4) ['S', 'E']\n",
      "(1, 5) ['N', 'W']\n",
      "(1, 6) ['E']\n",
      "(1, 7) ['S', 'W']\n",
      "(1, 8) ['S', 'N']\n",
      "(1, 9) ['E', 'N']\n",
      "(2, 0) ['S', 'W']\n",
      "(2, 1) ['S', 'N']\n",
      "(2, 2) ['E', 'N']\n",
      "(2, 3) ['E', 'W']\n",
      "(2, 4) ['S', 'W']\n",
      "(2, 5) ['S', 'N']\n",
      "(2, 6) ['N', 'W']\n",
      "(2, 7) ['S', 'E']\n",
      "(2, 8) ['S', 'N']\n",
      "(2, 9) ['N', 'W']\n",
      "(3, 0) ['S', 'E']\n",
      "(3, 1) ['S', 'N']\n",
      "(3, 2) ['N', 'W']\n",
      "(3, 3) ['S', 'W']\n",
      "(3, 4) ['S', 'N']\n",
      "(3, 5) ['E', 'N']\n",
      "(3, 6) ['S']\n",
      "(3, 7) ['E', 'N', 'W']\n",
      "(3, 8) ['S', 'E']\n",
      "(3, 9) ['E', 'N']\n",
      "(4, 0) ['S', 'W']\n",
      "(4, 1) ['S', 'N']\n",
      "(4, 2) ['S', 'N']\n",
      "(4, 3) ['S', 'E', 'N']\n",
      "(4, 4) ['E', 'N']\n",
      "(4, 5) ['S', 'W']\n",
      "(4, 6) ['E', 'N']\n",
      "(4, 7) ['E', 'W']\n",
      "(4, 8) ['E', 'W']\n",
      "(4, 9) ['E', 'W']\n",
      "(5, 0) ['S', 'E']\n",
      "(5, 1) ['S', 'E', 'N']\n",
      "(5, 2) ['S', 'N']\n",
      "(5, 3) ['N', 'W']\n",
      "(5, 4) ['W']\n",
      "(5, 5) ['S', 'E']\n",
      "(5, 6) ['N', 'W']\n",
      "(5, 7) ['S', 'E', 'W']\n",
      "(5, 8) ['N', 'W']\n",
      "(5, 9) ['E', 'W']\n",
      "(6, 0) ['E', 'W']\n",
      "(6, 1) ['W']\n",
      "(6, 2) ['S', 'E']\n",
      "(6, 3) ['S', 'N']\n",
      "(6, 4) ['E', 'N']\n",
      "(6, 5) ['E', 'W']\n",
      "(6, 6) ['S']\n",
      "(6, 7) ['S', 'N', 'W']\n",
      "(6, 8) ['N']\n",
      "(6, 9) ['E', 'W']\n",
      "(7, 0) ['E', 'W']\n",
      "(7, 1) ['S', 'E']\n",
      "(7, 2) ['N', 'W']\n",
      "(7, 3) ['E']\n",
      "(7, 4) ['E', 'W']\n",
      "(7, 5) ['S', 'W']\n",
      "(7, 6) ['E', 'N']\n",
      "(7, 7) ['S', 'E']\n",
      "(7, 8) ['E', 'N']\n",
      "(7, 9) ['E', 'W']\n",
      "(8, 0) ['S', 'E', 'W']\n",
      "(8, 1) ['N', 'W']\n",
      "(8, 2) ['S']\n",
      "(8, 3) ['E', 'N', 'W']\n",
      "(8, 4) ['S', 'W']\n",
      "(8, 5) ['E', 'N']\n",
      "(8, 6) ['E', 'W']\n",
      "(8, 7) ['E', 'W']\n",
      "(8, 8) ['E', 'W']\n",
      "(8, 9) ['E', 'W']\n",
      "(9, 0) ['S', 'W']\n",
      "(9, 1) ['S', 'N']\n",
      "(9, 2) ['S', 'N']\n",
      "(9, 3) ['S', 'N', 'W']\n",
      "(9, 4) ['N']\n",
      "(9, 5) ['S', 'W']\n",
      "(9, 6) ['S', 'N', 'W']\n",
      "(9, 7) ['N', 'W']\n",
      "(9, 8) ['S', 'W']\n",
      "(9, 9) ['N', 'W']\n",
      "(0, 0) ['S', 'E']\n",
      "(0, 1) ['E', 'N']\n",
      "(0, 2) ['S', 'E']\n",
      "(0, 3) ['S', 'N']\n",
      "(0, 4) ['S', 'N']\n",
      "(0, 5) ['E', 'N']\n",
      "(0, 6) ['S']\n",
      "(0, 7) ['S', 'E', 'N']\n",
      "(0, 8) ['S', 'N']\n",
      "(0, 9) ['N']\n",
      "(1, 0) ['E', 'W']\n",
      "(1, 1) ['W']\n",
      "(1, 2) ['S', 'W']\n",
      "(1, 3) ['E', 'N']\n",
      "(1, 4) ['S', 'E']\n",
      "(1, 5) ['N', 'W']\n",
      "(1, 6) ['E']\n",
      "(1, 7) ['S', 'W']\n",
      "(1, 8) ['S', 'N']\n",
      "(1, 9) ['E', 'N']\n",
      "(2, 0) ['S', 'W']\n",
      "(2, 1) ['S', 'N']\n",
      "(2, 2) ['E', 'N']\n",
      "(2, 3) ['E', 'W']\n",
      "(2, 4) ['S', 'W']\n",
      "(2, 5) ['S', 'N']\n",
      "(2, 6) ['N', 'W']\n",
      "(2, 7) ['S', 'E']\n",
      "(2, 8) ['S', 'N']\n",
      "(2, 9) ['N', 'W']\n",
      "(3, 0) ['S', 'E']\n",
      "(3, 1) ['S', 'N']\n",
      "(3, 2) ['N', 'W']\n",
      "(3, 3) ['S', 'W']\n",
      "(3, 4) ['S', 'N']\n",
      "(3, 5) ['E', 'N']\n",
      "(3, 6) ['S']\n",
      "(3, 7) ['E', 'N', 'W']\n",
      "(3, 8) ['S', 'E']\n",
      "(3, 9) ['E', 'N']\n",
      "(4, 0) ['S', 'W']\n",
      "(4, 1) ['S', 'N']\n",
      "(4, 2) ['S', 'N']\n",
      "(4, 3) ['S', 'E', 'N']\n",
      "(4, 4) ['E', 'N']\n",
      "(4, 5) ['S', 'W']\n",
      "(4, 6) ['E', 'N']\n",
      "(4, 7) ['E', 'W']\n",
      "(4, 8) ['E', 'W']\n",
      "(4, 9) ['E', 'W']\n",
      "(5, 0) ['S', 'E']\n",
      "(5, 1) ['S', 'E', 'N']\n",
      "(5, 2) ['S', 'N']\n",
      "(5, 3) ['N', 'W']\n",
      "(5, 4) ['W']\n",
      "(5, 5) ['S', 'E']\n",
      "(5, 6) ['N', 'W']\n",
      "(5, 7) ['S', 'E', 'W']\n",
      "(5, 8) ['N', 'W']\n",
      "(5, 9) ['E', 'W']\n",
      "(6, 0) ['E', 'W']\n",
      "(6, 1) ['W']\n",
      "(6, 2) ['S', 'E']\n",
      "(6, 3) ['S', 'N']\n",
      "(6, 4) ['E', 'N']\n",
      "(6, 5) ['E', 'W']\n",
      "(6, 6) ['S']\n",
      "(6, 7) ['S', 'N', 'W']\n",
      "(6, 8) ['N']\n",
      "(6, 9) ['E', 'W']\n",
      "(7, 0) ['E', 'W']\n",
      "(7, 1) ['S', 'E']\n",
      "(7, 2) ['N', 'W']\n",
      "(7, 3) ['E']\n",
      "(7, 4) ['E', 'W']\n",
      "(7, 5) ['S', 'W']\n",
      "(7, 6) ['E', 'N']\n",
      "(7, 7) ['S', 'E']\n",
      "(7, 8) ['E', 'N']\n",
      "(7, 9) ['E', 'W']\n",
      "(8, 0) ['S', 'E', 'W']\n",
      "(8, 1) ['N', 'W']\n",
      "(8, 2) ['S']\n",
      "(8, 3) ['E', 'N', 'W']\n",
      "(8, 4) ['S', 'W']\n",
      "(8, 5) ['E', 'N']\n",
      "(8, 6) ['E', 'W']\n",
      "(8, 7) ['E', 'W']\n",
      "(8, 8) ['E', 'W']\n",
      "(8, 9) ['E', 'W']\n",
      "(9, 0) ['S', 'W']\n",
      "(9, 1) ['S', 'N']\n",
      "(9, 2) ['S', 'N']\n",
      "(9, 3) ['S', 'N', 'W']\n",
      "(9, 4) ['N']\n",
      "(9, 5) ['S', 'W']\n",
      "(9, 6) ['S', 'N', 'W']\n",
      "(9, 7) ['N', 'W']\n",
      "(9, 8) ['S', 'W']\n",
      "(9, 9) ['N', 'W']\n"
     ]
    },
    {
     "name": "stderr",
     "output_type": "stream",
     "text": [
      "/home/yaroslav/.local/lib/python3.9/site-packages/gym/logger.py:30: UserWarning: \u001b[33mWARN: Trying to monitor an environment which has no 'spec' set. This usually means you did not create it via 'gym.make', and is recommended only for advanced users.\u001b[0m\n",
      "  warnings.warn(colorize('%s: %s'%('WARN', msg % args), 'yellow'))\n"
     ]
    },
    {
     "name": "stdout",
     "output_type": "stream",
     "text": [
      "{(0, 0): 'S', (0, 1): 'E', (0, 2): 'E', (0, 3): 'N', (0, 4): 'N', (0, 5): 'N', (0, 6): 'S', (0, 7): 'N', (0, 8): 'N', (0, 9): 'N', (1, 0): 'E', (1, 1): 'W', (1, 2): 'S', (1, 3): 'E', (1, 4): 'S', (1, 5): 'W', (1, 6): 'E', (1, 7): 'S', (1, 8): 'S', (1, 9): 'E', (2, 0): 'S', (2, 1): 'S', (2, 2): 'E', (2, 3): 'E', (2, 4): 'W', (2, 5): 'N', (2, 6): 'N', (2, 7): 'S', (2, 8): 'S', (2, 9): 'N', (3, 0): 'S', (3, 1): 'S', (3, 2): 'N', (3, 3): 'S', (3, 4): 'S', (3, 5): 'E', (3, 6): 'S', (3, 7): 'E', (3, 8): 'S', (3, 9): 'E', (4, 0): 'S', (4, 1): 'S', (4, 2): 'N', (4, 3): 'N', (4, 4): 'E', (4, 5): 'S', (4, 6): 'E', (4, 7): 'E', (4, 8): 'E', (4, 9): 'E', (5, 0): 'E', (5, 1): 'N', (5, 2): 'S', (5, 3): 'W', (5, 4): 'W', (5, 5): 'E', (5, 6): 'N', (5, 7): 'S', (5, 8): 'N', (5, 9): 'E', (6, 0): 'E', (6, 1): 'W', (6, 2): 'S', (6, 3): 'S', (6, 4): 'E', (6, 5): 'E', (6, 6): 'S', (6, 7): 'N', (6, 8): 'N', (6, 9): 'E', (7, 0): 'E', (7, 1): 'S', (7, 2): 'W', (7, 3): 'E', (7, 4): 'E', (7, 5): 'S', (7, 6): 'E', (7, 7): 'S', (7, 8): 'E', (7, 9): 'E', (8, 0): 'E', (8, 1): 'W', (8, 2): 'S', (8, 3): 'N', (8, 4): 'S', (8, 5): 'E', (8, 6): 'E', (8, 7): 'W', (8, 8): 'E', (8, 9): 'E', (9, 0): 'S', (9, 1): 'S', (9, 2): 'S', (9, 3): 'N', (9, 4): 'N', (9, 5): 'S', (9, 6): 'S', (9, 7): 'W', (9, 8): 'S', (9, 9): 'W'}\n"
     ]
    },
    {
     "ename": "SystemExit",
     "evalue": "",
     "output_type": "error",
     "traceback": [
      "An exception has occurred, use %tb to see the full traceback.\n",
      "\u001b[0;31mSystemExit\u001b[0m\n"
     ]
    },
    {
     "name": "stderr",
     "output_type": "stream",
     "text": [
      "/home/yaroslav/.local/lib/python3.9/site-packages/IPython/core/interactiveshell.py:3445: UserWarning: To exit: use 'exit', 'quit', or Ctrl-D.\n",
      "  warn(\"To exit: use 'exit', 'quit', or Ctrl-D.\", stacklevel=1)\n"
     ]
    }
   ],
   "source": [
    "total_rewards, total_streaks, steps_qty = get_results_iteration((10, 10), 2, 0.99, 0.1, 0.01)"
   ]
  },
  {
   "cell_type": "code",
   "execution_count": null,
   "metadata": {},
   "outputs": [],
   "source": []
  },
  {
   "cell_type": "code",
   "execution_count": null,
   "metadata": {},
   "outputs": [],
   "source": []
  },
  {
   "cell_type": "code",
   "execution_count": null,
   "metadata": {},
   "outputs": [],
   "source": []
  },
  {
   "cell_type": "code",
   "execution_count": null,
   "metadata": {},
   "outputs": [],
   "source": []
  },
  {
   "cell_type": "code",
   "execution_count": null,
   "metadata": {},
   "outputs": [],
   "source": []
  }
 ],
 "metadata": {
  "kernelspec": {
   "display_name": "Python 3",
   "language": "python",
   "name": "python3"
  },
  "language_info": {
   "codemirror_mode": {
    "name": "ipython",
    "version": 3
   },
   "file_extension": ".py",
   "mimetype": "text/x-python",
   "name": "python",
   "nbconvert_exporter": "python",
   "pygments_lexer": "ipython3",
   "version": "3.9.2"
  }
 },
 "nbformat": 4,
 "nbformat_minor": 4
}
