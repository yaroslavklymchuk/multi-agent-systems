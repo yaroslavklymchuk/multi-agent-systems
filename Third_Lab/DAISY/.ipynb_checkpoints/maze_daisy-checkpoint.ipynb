{
 "cells": [
  {
   "cell_type": "code",
   "execution_count": 1,
   "metadata": {},
   "outputs": [
    {
     "name": "stdout",
     "output_type": "stream",
     "text": [
      "pygame 2.0.1 (SDL 2.0.14, Python 3.9.2)\n",
      "Hello from the pygame community. https://www.pygame.org/contribute.html\n"
     ]
    }
   ],
   "source": [
    "from simulations import qlearning_main, value_iteration_main\n",
    "from environments import MazeEnv\n",
    "\n",
    "import matplotlib.pyplot as plt\n",
    "import seaborn as sns"
   ]
  },
  {
   "cell_type": "markdown",
   "metadata": {},
   "source": [
    "### Алгоритм Q-Learning"
   ]
  },
  {
   "cell_type": "code",
   "execution_count": 2,
   "metadata": {},
   "outputs": [],
   "source": [
    "def get_results_qlearning(env_size, num_episodes, epsilon, lr, gamma, eps_shedule, lr_shedule, max_win_streak=100,\n",
    "                          debug=True, render_maze=True, recording_folder='./videos', enable_recording=True):\n",
    "    \n",
    "    env = MazeEnv(maze_size=env_size)\n",
    "    \n",
    "    total_rewards, total_streaks, steps_qty = qlearning_main(env, num_episodes, epsilon, lr,\n",
    "                                                             eps_shedule, lr_shedule, gamma, max_win_streak,\n",
    "                                                             debug=True, render_maze=True, \n",
    "                                                             recording_folder='./videos',\n",
    "                                                             enable_recording=True)\n",
    "    \n",
    "    return total_rewards, total_streaks, steps_qty"
   ]
  },
  {
   "cell_type": "code",
   "execution_count": 5,
   "metadata": {},
   "outputs": [
    {
     "name": "stderr",
     "output_type": "stream",
     "text": [
      "/home/yaroslav/.local/lib/python3.9/site-packages/gym/logger.py:30: UserWarning: \u001b[33mWARN: Trying to monitor an environment which has no 'spec' set. This usually means you did not create it via 'gym.make', and is recommended only for advanced users.\u001b[0m\n",
      "  warnings.warn(colorize('%s: %s'%('WARN', msg % args), 'yellow'))\n"
     ]
    },
    {
     "name": "stdout",
     "output_type": "stream",
     "text": [
      "\n",
      "Episode = 0\n",
      "t = 1007\n",
      "Explore rate: 0.010000\n",
      "Learning rate: 0.100000\n",
      "Streaks: 0\n",
      "Total reward: -0.007000\n",
      "Average Streaks: 0\n",
      "Average Rewards: 0\n",
      "\n",
      "Episode 0 finished after 1007.000000 time steps with total reward = -0.007000 (streak 0).\n",
      "\n",
      "Episode = 1\n",
      "t = 3080\n",
      "Explore rate: 0.010000\n",
      "Learning rate: 0.100000\n",
      "Streaks: 0\n",
      "Total reward: -2.080000\n",
      "Average Streaks: 0\n",
      "Average Rewards: -1\n",
      "\n",
      "Episode 1 finished after 3080.000000 time steps with total reward = -2.080000 (streak 0).\n",
      "\n",
      "Episode = 2\n",
      "t = 5734\n",
      "Explore rate: 0.005263\n",
      "Learning rate: 0.052632\n",
      "Streaks: 0\n",
      "Total reward: -4.734000\n",
      "Average Streaks: 0\n",
      "Average Rewards: -1\n",
      "\n",
      "Episode 2 finished after 5734.000000 time steps with total reward = -4.734000 (streak 0).\n",
      "\n",
      "Episode = 3\n",
      "t = 7036\n",
      "Explore rate: 0.003571\n",
      "Learning rate: 0.018797\n",
      "Streaks: 0\n",
      "Total reward: -6.036000\n",
      "Average Streaks: 0\n",
      "Average Rewards: -1\n",
      "\n",
      "Episode 3 finished after 7036.000000 time steps with total reward = -6.036000 (streak 0).\n",
      "\n",
      "Episode = 4\n",
      "t = 9533\n",
      "Explore rate: 0.002703\n",
      "Learning rate: 0.005080\n",
      "Streaks: 0\n",
      "Total reward: -8.533000\n",
      "Average Streaks: 0\n",
      "Average Rewards: -1\n",
      "\n",
      "Episode 4 finished after 9533.000000 time steps with total reward = -8.533000 (streak 0).\n",
      "\n",
      "Episode = 5\n",
      "t = 9999\n",
      "Explore rate: 0.002174\n",
      "Learning rate: 0.001104\n",
      "Streaks: 0\n",
      "Total reward: -10.000000\n",
      "Average Streaks: 0\n",
      "Average Rewards: -1\n",
      "\n",
      "Episode 5 timed out at 9999 with total reward = -10.000000.\n",
      "\n",
      "Episode = 6\n",
      "t = 9999\n",
      "Explore rate: 0.001818\n",
      "Learning rate: 0.000201\n",
      "Streaks: 0\n",
      "Total reward: -10.000000\n",
      "Average Streaks: 0\n",
      "Average Rewards: -1\n",
      "\n",
      "Episode 6 timed out at 9999 with total reward = -10.000000.\n",
      "\n",
      "Episode = 7\n",
      "t = 9999\n",
      "Explore rate: 0.001562\n",
      "Learning rate: 0.000031\n",
      "Streaks: 0\n",
      "Total reward: -10.000000\n",
      "Average Streaks: 0\n",
      "Average Rewards: -1\n",
      "\n",
      "Episode 7 timed out at 9999 with total reward = -10.000000.\n",
      "\n",
      "Episode = 8\n",
      "t = 9999\n",
      "Explore rate: 0.001370\n",
      "Learning rate: 0.000004\n",
      "Streaks: 0\n",
      "Total reward: -10.000000\n",
      "Average Streaks: 0\n",
      "Average Rewards: -1\n",
      "\n",
      "Episode 8 timed out at 9999 with total reward = -10.000000.\n",
      "\n",
      "Episode = 9\n",
      "t = 9999\n",
      "Explore rate: 0.001220\n",
      "Learning rate: 0.000001\n",
      "Streaks: 0\n",
      "Total reward: -10.000000\n",
      "Average Streaks: 0\n",
      "Average Rewards: 0\n",
      "\n",
      "Episode 9 timed out at 9999 with total reward = -10.000000.\n",
      "\n",
      "Episode = 10\n",
      "t = 9999\n",
      "Explore rate: 0.001099\n",
      "Learning rate: 0.000000\n",
      "Streaks: 0\n",
      "Total reward: -10.000000\n",
      "Average Streaks: 0\n",
      "Average Rewards: 0\n",
      "\n",
      "Episode 10 timed out at 9999 with total reward = -10.000000.\n",
      "\n",
      "Episode = 11\n",
      "t = 9999\n",
      "Explore rate: 0.001000\n",
      "Learning rate: 0.000000\n",
      "Streaks: 0\n",
      "Total reward: -10.000000\n",
      "Average Streaks: 0\n",
      "Average Rewards: 0\n",
      "\n",
      "Episode 11 timed out at 9999 with total reward = -10.000000.\n",
      "\n",
      "Episode = 12\n",
      "t = 9999\n",
      "Explore rate: 0.000917\n",
      "Learning rate: 0.000000\n",
      "Streaks: 0\n",
      "Total reward: -10.000000\n",
      "Average Streaks: 0\n",
      "Average Rewards: 0\n",
      "\n",
      "Episode 12 timed out at 9999 with total reward = -10.000000.\n",
      "\n",
      "Episode = 13\n",
      "t = 9999\n",
      "Explore rate: 0.000847\n",
      "Learning rate: 0.000000\n",
      "Streaks: 0\n",
      "Total reward: -10.000000\n",
      "Average Streaks: 0\n",
      "Average Rewards: 0\n",
      "\n",
      "Episode 13 timed out at 9999 with total reward = -10.000000.\n",
      "\n",
      "Episode = 14\n",
      "t = 9999\n",
      "Explore rate: 0.000787\n",
      "Learning rate: 0.000000\n",
      "Streaks: 0\n",
      "Total reward: -10.000000\n",
      "Average Streaks: 0\n",
      "Average Rewards: 0\n",
      "\n",
      "Episode 14 timed out at 9999 with total reward = -10.000000.\n",
      "\n",
      "Episode = 15\n",
      "t = 9999\n",
      "Explore rate: 0.000735\n",
      "Learning rate: 0.000000\n",
      "Streaks: 0\n",
      "Total reward: -10.000000\n",
      "Average Streaks: 0\n",
      "Average Rewards: 0\n",
      "\n",
      "Episode 15 timed out at 9999 with total reward = -10.000000.\n",
      "\n",
      "Episode = 16\n",
      "t = 9999\n",
      "Explore rate: 0.000690\n",
      "Learning rate: 0.000000\n",
      "Streaks: 0\n",
      "Total reward: -10.000000\n",
      "Average Streaks: 0\n",
      "Average Rewards: 0\n",
      "\n",
      "Episode 16 timed out at 9999 with total reward = -10.000000.\n",
      "\n",
      "Episode = 17\n",
      "t = 9999\n",
      "Explore rate: 0.000649\n",
      "Learning rate: 0.000000\n",
      "Streaks: 0\n",
      "Total reward: -10.000000\n",
      "Average Streaks: 0\n",
      "Average Rewards: 0\n",
      "\n",
      "Episode 17 timed out at 9999 with total reward = -10.000000.\n",
      "\n",
      "Episode = 18\n",
      "t = 9999\n",
      "Explore rate: 0.000613\n",
      "Learning rate: 0.000000\n",
      "Streaks: 0\n",
      "Total reward: -10.000000\n",
      "Average Streaks: 0\n",
      "Average Rewards: 0\n",
      "\n",
      "Episode 18 timed out at 9999 with total reward = -10.000000.\n",
      "\n",
      "Episode = 19\n",
      "t = 9999\n",
      "Explore rate: 0.000581\n",
      "Learning rate: 0.000000\n",
      "Streaks: 0\n",
      "Total reward: -10.000000\n",
      "Average Streaks: 0\n",
      "Average Rewards: 0\n",
      "\n",
      "Episode 19 timed out at 9999 with total reward = -10.000000.\n",
      "\n",
      "Episode = 20\n",
      "t = 9999\n",
      "Explore rate: 0.000552\n",
      "Learning rate: 0.000000\n",
      "Streaks: 0\n",
      "Total reward: -10.000000\n",
      "Average Streaks: 0\n",
      "Average Rewards: 0\n",
      "\n",
      "Episode 20 timed out at 9999 with total reward = -10.000000.\n",
      "\n",
      "Episode = 21\n",
      "t = 9999\n",
      "Explore rate: 0.000526\n",
      "Learning rate: 0.000000\n",
      "Streaks: 0\n",
      "Total reward: -10.000000\n",
      "Average Streaks: 0\n",
      "Average Rewards: 0\n",
      "\n",
      "Episode 21 timed out at 9999 with total reward = -10.000000.\n",
      "\n",
      "Episode = 22\n",
      "t = 9999\n",
      "Explore rate: 0.000503\n",
      "Learning rate: 0.000000\n",
      "Streaks: 0\n",
      "Total reward: -10.000000\n",
      "Average Streaks: 0\n",
      "Average Rewards: 0\n",
      "\n",
      "Episode 22 timed out at 9999 with total reward = -10.000000.\n",
      "\n",
      "Episode = 23\n",
      "t = 9999\n",
      "Explore rate: 0.000481\n",
      "Learning rate: 0.000000\n",
      "Streaks: 0\n",
      "Total reward: -10.000000\n",
      "Average Streaks: 0\n",
      "Average Rewards: 0\n",
      "\n",
      "Episode 23 timed out at 9999 with total reward = -10.000000.\n",
      "\n",
      "Episode = 24\n",
      "t = 1351\n",
      "Explore rate: 0.000461\n",
      "Learning rate: 0.000000\n",
      "Streaks: 0\n",
      "Total reward: -0.351000\n",
      "Average Streaks: 0\n",
      "Average Rewards: 0\n",
      "\n",
      "Episode 24 finished after 1351.000000 time steps with total reward = -0.351000 (streak 0).\n"
     ]
    },
    {
     "ename": "KeyboardInterrupt",
     "evalue": "",
     "output_type": "error",
     "traceback": [
      "\u001b[0;31m---------------------------------------------------------------------------\u001b[0m",
      "\u001b[0;31mKeyboardInterrupt\u001b[0m                         Traceback (most recent call last)",
      "\u001b[0;32m<ipython-input-5-4bfa57d128d5>\u001b[0m in \u001b[0;36m<module>\u001b[0;34m\u001b[0m\n\u001b[0;32m----> 1\u001b[0;31m total_rewards, total_streaks, steps_qty = get_results_qlearning((10, 10), 500, 0.01, 0.1, 0.9,\n\u001b[0m\u001b[1;32m      2\u001b[0m                                                                \u001b[0;34m{\u001b[0m\u001b[0;34m'smoothed_decay_based_sheduler'\u001b[0m\u001b[0;34m:\u001b[0m \u001b[0;36m0.9\u001b[0m\u001b[0;34m}\u001b[0m\u001b[0;34m,\u001b[0m\u001b[0;34m\u001b[0m\u001b[0;34m\u001b[0m\u001b[0m\n\u001b[1;32m      3\u001b[0m                                                                {'smoothed_decay_based_sheduler': 0.9})\n",
      "\u001b[0;32m<ipython-input-2-a1776dee37f0>\u001b[0m in \u001b[0;36mget_results_qlearning\u001b[0;34m(env_size, num_episodes, epsilon, lr, gamma, eps_shedule, lr_shedule, max_win_streak, debug, render_maze, recording_folder, enable_recording)\u001b[0m\n\u001b[1;32m      4\u001b[0m     \u001b[0menv\u001b[0m \u001b[0;34m=\u001b[0m \u001b[0mMazeEnv\u001b[0m\u001b[0;34m(\u001b[0m\u001b[0mmaze_size\u001b[0m\u001b[0;34m=\u001b[0m\u001b[0menv_size\u001b[0m\u001b[0;34m)\u001b[0m\u001b[0;34m\u001b[0m\u001b[0;34m\u001b[0m\u001b[0m\n\u001b[1;32m      5\u001b[0m \u001b[0;34m\u001b[0m\u001b[0m\n\u001b[0;32m----> 6\u001b[0;31m     total_rewards, total_streaks, steps_qty = qlearning_main(env, num_episodes, epsilon, lr,\n\u001b[0m\u001b[1;32m      7\u001b[0m                                                              \u001b[0meps_shedule\u001b[0m\u001b[0;34m,\u001b[0m \u001b[0mlr_shedule\u001b[0m\u001b[0;34m,\u001b[0m \u001b[0mgamma\u001b[0m\u001b[0;34m,\u001b[0m \u001b[0mmax_win_streak\u001b[0m\u001b[0;34m,\u001b[0m\u001b[0;34m\u001b[0m\u001b[0;34m\u001b[0m\u001b[0m\n\u001b[1;32m      8\u001b[0m                                                              \u001b[0mdebug\u001b[0m\u001b[0;34m=\u001b[0m\u001b[0;32mTrue\u001b[0m\u001b[0;34m,\u001b[0m \u001b[0mrender_maze\u001b[0m\u001b[0;34m=\u001b[0m\u001b[0;32mTrue\u001b[0m\u001b[0;34m,\u001b[0m\u001b[0;34m\u001b[0m\u001b[0;34m\u001b[0m\u001b[0m\n",
      "\u001b[0;32m~/projects/multiagent_systems/Third_Lab/DAISY/simulations.py\u001b[0m in \u001b[0;36mqlearning_main\u001b[0;34m(env, num_episodes, epsilon, lr, epsilon_shedule, lr_shedule, gamma, max_win_streak, debug, render_maze, recording_folder, enable_recording)\u001b[0m\n\u001b[1;32m    191\u001b[0m         \u001b[0menv\u001b[0m\u001b[0;34m.\u001b[0m\u001b[0m_start\u001b[0m\u001b[0;34m(\u001b[0m\u001b[0mrecording_folder\u001b[0m\u001b[0;34m,\u001b[0m \u001b[0mvideo_callable\u001b[0m\u001b[0;34m=\u001b[0m\u001b[0;32mlambda\u001b[0m \u001b[0mepisode\u001b[0m\u001b[0;34m:\u001b[0m \u001b[0;32mTrue\u001b[0m\u001b[0;34m,\u001b[0m \u001b[0mforce\u001b[0m\u001b[0;34m=\u001b[0m\u001b[0;32mTrue\u001b[0m\u001b[0;34m)\u001b[0m\u001b[0;34m\u001b[0m\u001b[0;34m\u001b[0m\u001b[0m\n\u001b[1;32m    192\u001b[0m \u001b[0;34m\u001b[0m\u001b[0m\n\u001b[0;32m--> 193\u001b[0;31m     total_rewards, total_streaks, steps_qty = simulate_q_learning(env=env, q_table=q_table, num_episodes=num_episodes,\n\u001b[0m\u001b[1;32m    194\u001b[0m                                                                   \u001b[0mepsilon\u001b[0m\u001b[0;34m=\u001b[0m\u001b[0mepsilon\u001b[0m\u001b[0;34m,\u001b[0m \u001b[0mlr\u001b[0m\u001b[0;34m=\u001b[0m\u001b[0mlr\u001b[0m\u001b[0;34m,\u001b[0m\u001b[0;34m\u001b[0m\u001b[0;34m\u001b[0m\u001b[0m\n\u001b[1;32m    195\u001b[0m                                                                   \u001b[0mepsilon_shedule\u001b[0m\u001b[0;34m=\u001b[0m\u001b[0mepsilon_shedule\u001b[0m\u001b[0;34m,\u001b[0m\u001b[0;34m\u001b[0m\u001b[0;34m\u001b[0m\u001b[0m\n",
      "\u001b[0;32m~/projects/multiagent_systems/Third_Lab/DAISY/simulations.py\u001b[0m in \u001b[0;36msimulate_q_learning\u001b[0;34m(q_table, env, num_episodes, epsilon, lr, epsilon_shedule, lr_shedule, gamma, max_win_streak, debug, render_maze)\u001b[0m\n\u001b[1;32m    100\u001b[0m             \u001b[0maction\u001b[0m \u001b[0;34m=\u001b[0m \u001b[0mselect_action\u001b[0m\u001b[0;34m(\u001b[0m\u001b[0menv\u001b[0m\u001b[0;34m,\u001b[0m \u001b[0mq_table\u001b[0m\u001b[0;34m,\u001b[0m \u001b[0mstate_0\u001b[0m\u001b[0;34m,\u001b[0m \u001b[0meps\u001b[0m\u001b[0;34m)\u001b[0m\u001b[0;34m\u001b[0m\u001b[0;34m\u001b[0m\u001b[0m\n\u001b[1;32m    101\u001b[0m             \u001b[0;31m# execute the action\u001b[0m\u001b[0;34m\u001b[0m\u001b[0;34m\u001b[0m\u001b[0;34m\u001b[0m\u001b[0m\n\u001b[0;32m--> 102\u001b[0;31m             \u001b[0mobv\u001b[0m\u001b[0;34m,\u001b[0m \u001b[0mreward\u001b[0m\u001b[0;34m,\u001b[0m \u001b[0mdone\u001b[0m\u001b[0;34m,\u001b[0m \u001b[0m_\u001b[0m \u001b[0;34m=\u001b[0m \u001b[0menv\u001b[0m\u001b[0;34m.\u001b[0m\u001b[0mstep\u001b[0m\u001b[0;34m(\u001b[0m\u001b[0maction\u001b[0m\u001b[0;34m)\u001b[0m\u001b[0;34m\u001b[0m\u001b[0;34m\u001b[0m\u001b[0m\n\u001b[0m\u001b[1;32m    103\u001b[0m \u001b[0;34m\u001b[0m\u001b[0m\n\u001b[1;32m    104\u001b[0m             \u001b[0;31m# Observe the result\u001b[0m\u001b[0;34m\u001b[0m\u001b[0;34m\u001b[0m\u001b[0;34m\u001b[0m\u001b[0m\n",
      "\u001b[0;32m~/.local/lib/python3.9/site-packages/gym/wrappers/monitor.py\u001b[0m in \u001b[0;36mstep\u001b[0;34m(self, action)\u001b[0m\n\u001b[1;32m     30\u001b[0m         \u001b[0mself\u001b[0m\u001b[0;34m.\u001b[0m\u001b[0m_before_step\u001b[0m\u001b[0;34m(\u001b[0m\u001b[0maction\u001b[0m\u001b[0;34m)\u001b[0m\u001b[0;34m\u001b[0m\u001b[0;34m\u001b[0m\u001b[0m\n\u001b[1;32m     31\u001b[0m         \u001b[0mobservation\u001b[0m\u001b[0;34m,\u001b[0m \u001b[0mreward\u001b[0m\u001b[0;34m,\u001b[0m \u001b[0mdone\u001b[0m\u001b[0;34m,\u001b[0m \u001b[0minfo\u001b[0m \u001b[0;34m=\u001b[0m \u001b[0mself\u001b[0m\u001b[0;34m.\u001b[0m\u001b[0menv\u001b[0m\u001b[0;34m.\u001b[0m\u001b[0mstep\u001b[0m\u001b[0;34m(\u001b[0m\u001b[0maction\u001b[0m\u001b[0;34m)\u001b[0m\u001b[0;34m\u001b[0m\u001b[0;34m\u001b[0m\u001b[0m\n\u001b[0;32m---> 32\u001b[0;31m         \u001b[0mdone\u001b[0m \u001b[0;34m=\u001b[0m \u001b[0mself\u001b[0m\u001b[0;34m.\u001b[0m\u001b[0m_after_step\u001b[0m\u001b[0;34m(\u001b[0m\u001b[0mobservation\u001b[0m\u001b[0;34m,\u001b[0m \u001b[0mreward\u001b[0m\u001b[0;34m,\u001b[0m \u001b[0mdone\u001b[0m\u001b[0;34m,\u001b[0m \u001b[0minfo\u001b[0m\u001b[0;34m)\u001b[0m\u001b[0;34m\u001b[0m\u001b[0;34m\u001b[0m\u001b[0m\n\u001b[0m\u001b[1;32m     33\u001b[0m \u001b[0;34m\u001b[0m\u001b[0m\n\u001b[1;32m     34\u001b[0m         \u001b[0;32mreturn\u001b[0m \u001b[0mobservation\u001b[0m\u001b[0;34m,\u001b[0m \u001b[0mreward\u001b[0m\u001b[0;34m,\u001b[0m \u001b[0mdone\u001b[0m\u001b[0;34m,\u001b[0m \u001b[0minfo\u001b[0m\u001b[0;34m\u001b[0m\u001b[0;34m\u001b[0m\u001b[0m\n",
      "\u001b[0;32m~/.local/lib/python3.9/site-packages/gym/wrappers/monitor.py\u001b[0m in \u001b[0;36m_after_step\u001b[0;34m(self, observation, reward, done, info)\u001b[0m\n\u001b[1;32m    169\u001b[0m         \u001b[0mself\u001b[0m\u001b[0;34m.\u001b[0m\u001b[0mstats_recorder\u001b[0m\u001b[0;34m.\u001b[0m\u001b[0mafter_step\u001b[0m\u001b[0;34m(\u001b[0m\u001b[0mobservation\u001b[0m\u001b[0;34m,\u001b[0m \u001b[0mreward\u001b[0m\u001b[0;34m,\u001b[0m \u001b[0mdone\u001b[0m\u001b[0;34m,\u001b[0m \u001b[0minfo\u001b[0m\u001b[0;34m)\u001b[0m\u001b[0;34m\u001b[0m\u001b[0;34m\u001b[0m\u001b[0m\n\u001b[1;32m    170\u001b[0m         \u001b[0;31m# Record video\u001b[0m\u001b[0;34m\u001b[0m\u001b[0;34m\u001b[0m\u001b[0;34m\u001b[0m\u001b[0m\n\u001b[0;32m--> 171\u001b[0;31m         \u001b[0mself\u001b[0m\u001b[0;34m.\u001b[0m\u001b[0mvideo_recorder\u001b[0m\u001b[0;34m.\u001b[0m\u001b[0mcapture_frame\u001b[0m\u001b[0;34m(\u001b[0m\u001b[0;34m)\u001b[0m\u001b[0;34m\u001b[0m\u001b[0;34m\u001b[0m\u001b[0m\n\u001b[0m\u001b[1;32m    172\u001b[0m \u001b[0;34m\u001b[0m\u001b[0m\n\u001b[1;32m    173\u001b[0m         \u001b[0;32mreturn\u001b[0m \u001b[0mdone\u001b[0m\u001b[0;34m\u001b[0m\u001b[0;34m\u001b[0m\u001b[0m\n",
      "\u001b[0;32m~/.local/lib/python3.9/site-packages/gym/wrappers/monitoring/video_recorder.py\u001b[0m in \u001b[0;36mcapture_frame\u001b[0;34m(self)\u001b[0m\n\u001b[1;32m    114\u001b[0m                 \u001b[0mself\u001b[0m\u001b[0;34m.\u001b[0m\u001b[0m_encode_ansi_frame\u001b[0m\u001b[0;34m(\u001b[0m\u001b[0mframe\u001b[0m\u001b[0;34m)\u001b[0m\u001b[0;34m\u001b[0m\u001b[0;34m\u001b[0m\u001b[0m\n\u001b[1;32m    115\u001b[0m             \u001b[0;32melse\u001b[0m\u001b[0;34m:\u001b[0m\u001b[0;34m\u001b[0m\u001b[0;34m\u001b[0m\u001b[0m\n\u001b[0;32m--> 116\u001b[0;31m                 \u001b[0mself\u001b[0m\u001b[0;34m.\u001b[0m\u001b[0m_encode_image_frame\u001b[0m\u001b[0;34m(\u001b[0m\u001b[0mframe\u001b[0m\u001b[0;34m)\u001b[0m\u001b[0;34m\u001b[0m\u001b[0;34m\u001b[0m\u001b[0m\n\u001b[0m\u001b[1;32m    117\u001b[0m \u001b[0;34m\u001b[0m\u001b[0m\n\u001b[1;32m    118\u001b[0m     \u001b[0;32mdef\u001b[0m \u001b[0mclose\u001b[0m\u001b[0;34m(\u001b[0m\u001b[0mself\u001b[0m\u001b[0;34m)\u001b[0m\u001b[0;34m:\u001b[0m\u001b[0;34m\u001b[0m\u001b[0;34m\u001b[0m\u001b[0m\n",
      "\u001b[0;32m~/.local/lib/python3.9/site-packages/gym/wrappers/monitoring/video_recorder.py\u001b[0m in \u001b[0;36m_encode_image_frame\u001b[0;34m(self, frame)\u001b[0m\n\u001b[1;32m    164\u001b[0m \u001b[0;34m\u001b[0m\u001b[0m\n\u001b[1;32m    165\u001b[0m         \u001b[0;32mtry\u001b[0m\u001b[0;34m:\u001b[0m\u001b[0;34m\u001b[0m\u001b[0;34m\u001b[0m\u001b[0m\n\u001b[0;32m--> 166\u001b[0;31m             \u001b[0mself\u001b[0m\u001b[0;34m.\u001b[0m\u001b[0mencoder\u001b[0m\u001b[0;34m.\u001b[0m\u001b[0mcapture_frame\u001b[0m\u001b[0;34m(\u001b[0m\u001b[0mframe\u001b[0m\u001b[0;34m)\u001b[0m\u001b[0;34m\u001b[0m\u001b[0;34m\u001b[0m\u001b[0m\n\u001b[0m\u001b[1;32m    167\u001b[0m         \u001b[0;32mexcept\u001b[0m \u001b[0merror\u001b[0m\u001b[0;34m.\u001b[0m\u001b[0mInvalidFrame\u001b[0m \u001b[0;32mas\u001b[0m \u001b[0me\u001b[0m\u001b[0;34m:\u001b[0m\u001b[0;34m\u001b[0m\u001b[0;34m\u001b[0m\u001b[0m\n\u001b[1;32m    168\u001b[0m             \u001b[0mlogger\u001b[0m\u001b[0;34m.\u001b[0m\u001b[0mwarn\u001b[0m\u001b[0;34m(\u001b[0m\u001b[0;34m'Tried to pass invalid video frame, marking as broken: %s'\u001b[0m\u001b[0;34m,\u001b[0m \u001b[0me\u001b[0m\u001b[0;34m)\u001b[0m\u001b[0;34m\u001b[0m\u001b[0;34m\u001b[0m\u001b[0m\n",
      "\u001b[0;32m~/.local/lib/python3.9/site-packages/gym/wrappers/monitoring/video_recorder.py\u001b[0m in \u001b[0;36mcapture_frame\u001b[0;34m(self, frame)\u001b[0m\n\u001b[1;32m    301\u001b[0m             \u001b[0;32mraise\u001b[0m \u001b[0merror\u001b[0m\u001b[0;34m.\u001b[0m\u001b[0mInvalidFrame\u001b[0m\u001b[0;34m(\u001b[0m\u001b[0;34m\"Your frame has data type {}, but we require uint8 (i.e. RGB values from 0-255).\"\u001b[0m\u001b[0;34m.\u001b[0m\u001b[0mformat\u001b[0m\u001b[0;34m(\u001b[0m\u001b[0mframe\u001b[0m\u001b[0;34m.\u001b[0m\u001b[0mdtype\u001b[0m\u001b[0;34m)\u001b[0m\u001b[0;34m)\u001b[0m\u001b[0;34m\u001b[0m\u001b[0;34m\u001b[0m\u001b[0m\n\u001b[1;32m    302\u001b[0m \u001b[0;34m\u001b[0m\u001b[0m\n\u001b[0;32m--> 303\u001b[0;31m         \u001b[0mself\u001b[0m\u001b[0;34m.\u001b[0m\u001b[0mproc\u001b[0m\u001b[0;34m.\u001b[0m\u001b[0mstdin\u001b[0m\u001b[0;34m.\u001b[0m\u001b[0mwrite\u001b[0m\u001b[0;34m(\u001b[0m\u001b[0mframe\u001b[0m\u001b[0;34m.\u001b[0m\u001b[0mtobytes\u001b[0m\u001b[0;34m(\u001b[0m\u001b[0;34m)\u001b[0m\u001b[0;34m)\u001b[0m\u001b[0;34m\u001b[0m\u001b[0;34m\u001b[0m\u001b[0m\n\u001b[0m\u001b[1;32m    304\u001b[0m \u001b[0;34m\u001b[0m\u001b[0m\n\u001b[1;32m    305\u001b[0m     \u001b[0;32mdef\u001b[0m \u001b[0mclose\u001b[0m\u001b[0;34m(\u001b[0m\u001b[0mself\u001b[0m\u001b[0;34m)\u001b[0m\u001b[0;34m:\u001b[0m\u001b[0;34m\u001b[0m\u001b[0;34m\u001b[0m\u001b[0m\n",
      "\u001b[0;31mKeyboardInterrupt\u001b[0m: "
     ]
    }
   ],
   "source": [
    "total_rewards, total_streaks, steps_qty = get_results_qlearning((10, 10), 500, 0.01, 0.1, 0.9,\n",
    "                                                               {'smoothed_decay_based_sheduler': 0.9},\n",
    "                                                               {'smoothed_decay_based_sheduler': 0.9})"
   ]
  },
  {
   "cell_type": "code",
   "execution_count": 4,
   "metadata": {},
   "outputs": [
    {
     "data": {
      "text/plain": [
       "136"
      ]
     },
     "execution_count": 4,
     "metadata": {},
     "output_type": "execute_result"
    }
   ],
   "source": [
    "len(total_rewards)"
   ]
  },
  {
   "cell_type": "code",
   "execution_count": 5,
   "metadata": {},
   "outputs": [
    {
     "data": {
      "image/png": "[encoded data removed]",
      "text/plain": [
       "<Figure size 720x360 with 1 Axes>"
      ]
     },
     "metadata": {
      "needs_background": "light"
     },
     "output_type": "display_data"
    }
   ],
   "source": [
    "plt.figure(figsize=(10, 5))\n",
    "\n",
    "plt.plot(total_rewards);"
   ]
  },
  {
   "cell_type": "code",
   "execution_count": 2,
   "metadata": {},
   "outputs": [],
   "source": [
    "def get_results_value_iteration(env_size, gamma, epsilon, make_action_proba, max_win_streak=100, \n",
    "                debug=True, render_maze=True, recording_folder='./videos', enable_recording=True):\n",
    "    \n",
    "    env = MazeEnv(maze_size=env_size)\n",
    "    \n",
    "    total_rewards, total_streaks, steps_qty = value_iteration_main(env, gamma, epsilon, make_action_proba,\n",
    "                                                                   max_win_streak, debug, render_maze,\n",
    "                                                                   recording_folder, enable_recording\n",
    "                                                                  )\n",
    "    \n",
    "    return total_rewards, total_streaks, steps_qty"
   ]
  },
  {
   "cell_type": "code",
   "execution_count": 3,
   "metadata": {},
   "outputs": [
    {
     "name": "stderr",
     "output_type": "stream",
     "text": [
      "/home/klimchuk/.local/lib/python3.6/site-packages/gym/logger.py:30: UserWarning: \u001b[33mWARN: Trying to monitor an environment which has no 'spec' set. This usually means you did not create it via 'gym.make', and is recommended only for advanced users.\u001b[0m\n",
      "  warnings.warn(colorize('%s: %s'%('WARN', msg % args), 'yellow'))\n"
     ]
    },
    {
     "name": "stdout",
     "output_type": "stream",
     "text": [
      "Iteration: 19\n",
      "t = 29\n",
      "Streaks: 0\n",
      "Total reward: 2.912348\n",
      "Average Streaks: 0.000000\n",
      "Average Rewards: 0.097078\n",
      "\n",
      "Finished after 29.000000 time steps with total reward = 2.912348 (streak 0).\n",
      "Iteration: 25\n",
      "t = 39\n",
      "Streaks: 1\n",
      "Total reward: 10.027123\n",
      "Average Streaks: 0.025000\n",
      "Average Rewards: 0.250678\n",
      "\n",
      "Finished after 39.000000 time steps with total reward = 10.027123 (streak 1).\n",
      "Iteration: 28\n",
      "t = 43\n",
      "Streaks: 2\n",
      "Total reward: 18.601230\n",
      "Average Streaks: 0.045455\n",
      "Average Rewards: 0.422755\n",
      "\n",
      "Finished after 43.000000 time steps with total reward = 18.601230 (streak 2).\n"
     ]
    }
   ],
   "source": [
    "total_rewards, total_streaks, steps_qty = get_results_value_iteration((10, 10), 0.9, 0.01, 1)"
   ]
  },
  {
   "cell_type": "code",
   "execution_count": 7,
   "metadata": {},
   "outputs": [
    {
     "data": {
      "text/plain": [
       "0.23778413456516395"
      ]
     },
     "execution_count": 7,
     "metadata": {},
     "output_type": "execute_result"
    }
   ],
   "source": [
    "np.mean(total_rewards)"
   ]
  },
  {
   "cell_type": "code",
   "execution_count": null,
   "metadata": {},
   "outputs": [],
   "source": []
  },
  {
   "cell_type": "code",
   "execution_count": null,
   "metadata": {},
   "outputs": [],
   "source": []
  },
  {
   "cell_type": "code",
   "execution_count": null,
   "metadata": {},
   "outputs": [],
   "source": []
  }
 ],
 "metadata": {
  "kernelspec": {
   "display_name": "Python 3",
   "language": "python",
   "name": "python3"
  },
  "language_info": {
   "codemirror_mode": {
    "name": "ipython",
    "version": 3
   },
   "file_extension": ".py",
   "mimetype": "text/x-python",
   "name": "python",
   "nbconvert_exporter": "python",
   "pygments_lexer": "ipython3",
   "version": "3.9.2"
  }
 },
 "nbformat": 4,
 "nbformat_minor": 4
}
